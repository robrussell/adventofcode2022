{
 "cells": [
  {
   "cell_type": "markdown",
   "metadata": {},
   "source": [
    "# Rock Paper Scissors competition\n",
    "\n",
    "Full problem https://adventofcode.com/2022/day/2\n",
    "\n",
    "* Problem 1 Goal is to calculate total score of all rounds following the strategy guide.\n",
    "* Problem 2 Changes the interpretation of the strategy guide - see [strategize.ipynb](./strategize.ipynb)\n",
    "\n",
    "## Input encoding\n",
    "\n",
    "* Input is a strategy guide\n",
    "* Guide lists one round per line\n",
    "* First letter is opponent move, second is your move\n",
    "\n",
    "### Key\n",
    "\n",
    "Opponent shape\n",
    "\n",
    "* A for Rock, B for Paper, and C for Scissors\n",
    "\n",
    "Your shape (_note_ this is a guess in the story)\n",
    "\n",
    "* X for Rock, Y for Paper, and Z for Scissors\n",
    "\n",
    "## Scoring\n",
    "\n",
    "Score = Your shape + Round outcome\n",
    "\n",
    "Score for your shape:\n",
    "\n",
    "* Rock: 1\n",
    "* Paper: 2\n",
    "* Scissors: 3\n",
    "\n",
    "Score for the round outcome:\n",
    "\n",
    "* Lose: 0\n",
    "* Draw: 3\n",
    "* Win: 6\n"
   ]
  },
  {
   "cell_type": "code",
   "execution_count": 1,
   "metadata": {},
   "outputs": [],
   "source": [
    "from dataclasses import dataclass\n",
    "from enum import Enum\n",
    "from typing import List\n",
    "import os\n"
   ]
  },
  {
   "cell_type": "code",
   "execution_count": 2,
   "metadata": {},
   "outputs": [],
   "source": [
    "class Outcome(Enum):\n",
    "  WIN = 6\n",
    "  DRAW = 3\n",
    "  LOSE = 0\n",
    "\n",
    "class OpponentShape(Enum):\n",
    "  ROCK = 'A'\n",
    "  PAPER = 'B'\n",
    "  SCISSORS = 'C'\n",
    "\n",
    "class YourShape(Enum):\n",
    "  ROCK = 'X'\n",
    "  PAPER = 'Y'\n",
    "  SCISSORS = 'Z'\n",
    "\n",
    "@dataclass\n",
    "class Round:\n",
    "  opponent_shape : OpponentShape\n",
    "  your_shape : YourShape\n",
    "\n",
    "  def __str__(self):\n",
    "    return f'Them {self.opponent_shape.name}, you {self.your_shape.name}'"
   ]
  },
  {
   "cell_type": "code",
   "execution_count": 3,
   "metadata": {},
   "outputs": [],
   "source": [
    "def load_data(filename : str) -> List[Round] :\n",
    "  rounds : List[Round] = []\n",
    "  with open(filename) as f:\n",
    "    for line in f.readlines():\n",
    "      if line[0] == '#' or line == '\\n':\n",
    "        # Extends the documented format to allow comment lines in test data \n",
    "        continue\n",
    "      line = line.strip()\n",
    "      if len(line) != 3:\n",
    "        raise Exception(f'Invalid input, line length {len(line)}: [{line}]')\n",
    "      if line[1] != ' ':\n",
    "        raise Exception('Invalid input')\n",
    "      rounds.append(Round(your_shape=YourShape(line[2]), opponent_shape=OpponentShape(line[0])))\n",
    "    return rounds"
   ]
  },
  {
   "cell_type": "code",
   "execution_count": 4,
   "metadata": {},
   "outputs": [],
   "source": [
    "def shape_score(round : Round) -> int:\n",
    "  score_dict = {\n",
    "    YourShape.ROCK: 1,\n",
    "    YourShape.PAPER: 2,\n",
    "    YourShape.SCISSORS: 3\n",
    "  }\n",
    "  return score_dict[round.your_shape]\n",
    "\n",
    "def outcome_score(round : Round) -> Outcome:\n",
    "  score_dict = {\n",
    "    OpponentShape.ROCK: {\n",
    "      YourShape.ROCK: Outcome.DRAW,\n",
    "      YourShape.PAPER: Outcome.WIN,\n",
    "      YourShape.SCISSORS: Outcome.LOSE\n",
    "    },\n",
    "    OpponentShape.PAPER: {\n",
    "      YourShape.ROCK: Outcome.LOSE,\n",
    "      YourShape.PAPER: Outcome.DRAW,\n",
    "      YourShape.SCISSORS: Outcome.WIN\n",
    "    },\n",
    "    OpponentShape.SCISSORS: {\n",
    "      YourShape.ROCK: Outcome.WIN,\n",
    "      YourShape.PAPER: Outcome.LOSE,\n",
    "      YourShape.SCISSORS: Outcome.DRAW\n",
    "    }\n",
    "  }\n",
    "  return score_dict[round.opponent_shape][round.your_shape]\n",
    "\n",
    "def score(r) -> int:\n",
    "  return shape_score(r) + outcome_score(r).value"
   ]
  },
  {
   "cell_type": "code",
   "execution_count": 5,
   "metadata": {},
   "outputs": [],
   "source": [
    "def solve(filename : str = 'input.txt') -> int:\n",
    "  rounds = load_data(filename)\n",
    "  total_score = 0\n",
    "  for r in rounds:\n",
    "    total_score = total_score + score(r)\n",
    "  return total_score"
   ]
  },
  {
   "cell_type": "markdown",
   "metadata": {},
   "source": [
    "# Tests"
   ]
  },
  {
   "cell_type": "code",
   "execution_count": 6,
   "metadata": {},
   "outputs": [],
   "source": [
    "testdata_filenames = ['sample1.txt']"
   ]
  },
  {
   "cell_type": "code",
   "execution_count": 7,
   "metadata": {},
   "outputs": [
    {
     "name": "stdout",
     "output_type": "stream",
     "text": [
      "sample1.txt: ['Them SCISSORS, you PAPER', 'Them SCISSORS, you PAPER', 'Them PAPER, you ROCK', 'Them PAPER, you PAPER', 'Them SCISSORS, you SCISSORS', 'Them SCISSORS, you SCISSORS', 'Them SCISSORS, you PAPER', 'Them PAPER, you SCISSORS', 'Them PAPER, you PAPER', 'Them SCISSORS, you SCISSORS', 'Them PAPER, you ROCK', 'Them SCISSORS, you SCISSORS', 'Them PAPER, you SCISSORS', 'Them SCISSORS, you PAPER', 'Them SCISSORS, you PAPER', 'Them SCISSORS, you PAPER']\n"
     ]
    }
   ],
   "source": [
    "for f in testdata_filenames:\n",
    "  d = load_data(os.path.join('testdata', f))\n",
    "  print(f'{f}: {[str(e) for e in d]}')"
   ]
  },
  {
   "cell_type": "code",
   "execution_count": 8,
   "metadata": {},
   "outputs": [
    {
     "name": "stdout",
     "output_type": "stream",
     "text": [
      "sample1.txt:\n",
      "Them SCISSORS, you PAPER, shape score 2, outcome Outcome.LOSE, total 2\n",
      "Them SCISSORS, you PAPER, shape score 2, outcome Outcome.LOSE, total 2\n",
      "Them PAPER, you ROCK, shape score 1, outcome Outcome.LOSE, total 1\n",
      "Them PAPER, you PAPER, shape score 2, outcome Outcome.DRAW, total 5\n",
      "Them SCISSORS, you SCISSORS, shape score 3, outcome Outcome.DRAW, total 6\n",
      "Them SCISSORS, you SCISSORS, shape score 3, outcome Outcome.DRAW, total 6\n",
      "Them SCISSORS, you PAPER, shape score 2, outcome Outcome.LOSE, total 2\n",
      "Them PAPER, you SCISSORS, shape score 3, outcome Outcome.WIN, total 9\n",
      "Them PAPER, you PAPER, shape score 2, outcome Outcome.DRAW, total 5\n",
      "Them SCISSORS, you SCISSORS, shape score 3, outcome Outcome.DRAW, total 6\n",
      "Them PAPER, you ROCK, shape score 1, outcome Outcome.LOSE, total 1\n",
      "Them SCISSORS, you SCISSORS, shape score 3, outcome Outcome.DRAW, total 6\n",
      "Them PAPER, you SCISSORS, shape score 3, outcome Outcome.WIN, total 9\n",
      "Them SCISSORS, you PAPER, shape score 2, outcome Outcome.LOSE, total 2\n",
      "Them SCISSORS, you PAPER, shape score 2, outcome Outcome.LOSE, total 2\n",
      "Them SCISSORS, you PAPER, shape score 2, outcome Outcome.LOSE, total 2\n"
     ]
    }
   ],
   "source": [
    "for f in testdata_filenames:\n",
    "  d = load_data(os.path.join('testdata', f))\n",
    "  print(f'{f}:')\n",
    "  for r in d:\n",
    "    print(f'{r}, shape score {shape_score(r)}, outcome {outcome_score(r)}, total {score(r)}')"
   ]
  },
  {
   "cell_type": "code",
   "execution_count": 9,
   "metadata": {},
   "outputs": [
    {
     "name": "stdout",
     "output_type": "stream",
     "text": [
      "sample1.txt: 66\n"
     ]
    }
   ],
   "source": [
    "for f in testdata_filenames:\n",
    "  s = solve(os.path.join('testdata', f))\n",
    "  print(f'{f}: {s}')"
   ]
  },
  {
   "cell_type": "markdown",
   "metadata": {},
   "source": [
    "# Answers"
   ]
  },
  {
   "cell_type": "code",
   "execution_count": 10,
   "metadata": {},
   "outputs": [
    {
     "name": "stdout",
     "output_type": "stream",
     "text": [
      "11386\n"
     ]
    }
   ],
   "source": [
    "your_score = solve()\n",
    "print(your_score)"
   ]
  },
  {
   "cell_type": "code",
   "execution_count": null,
   "metadata": {},
   "outputs": [],
   "source": []
  }
 ],
 "metadata": {
  "kernelspec": {
   "display_name": "Python 3.10.6 64-bit",
   "language": "python",
   "name": "python3"
  },
  "language_info": {
   "codemirror_mode": {
    "name": "ipython",
    "version": 3
   },
   "file_extension": ".py",
   "mimetype": "text/x-python",
   "name": "python",
   "nbconvert_exporter": "python",
   "pygments_lexer": "ipython3",
   "version": "3.10.6"
  },
  "orig_nbformat": 4,
  "vscode": {
   "interpreter": {
    "hash": "e7370f93d1d0cde622a1f8e1c04877d8463912d04d973331ad4851f04de6915a"
   }
  }
 },
 "nbformat": 4,
 "nbformat_minor": 2
}
