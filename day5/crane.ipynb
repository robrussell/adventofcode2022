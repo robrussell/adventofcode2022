{
 "cells": [
  {
   "attachments": {},
   "cell_type": "markdown",
   "metadata": {},
   "source": [
    "# Day 5: Supply Stacks\n",
    "\n",
    "https://adventofcode.com/2022/day/5\n",
    "\n",
    "_After the rearrangement procedure completes, what crate ends up on top of each stack?_\n",
    "\n",
    "* Input contains a drawing of the stacks followed by move instructions\n",
    "* Example drawing shows 3 stacks. Input has 9. Assume no defined limit.\n",
    "* Move instructions look like\n",
    "\n",
    "`move 1 from 2 to 1`\n"
   ]
  },
  {
   "cell_type": "code",
   "execution_count": 1,
   "metadata": {},
   "outputs": [],
   "source": [
    "import os\n",
    "from dataclasses import dataclass\n",
    "from typing import Dict\n",
    "from typing import List\n",
    "from enum import auto\n",
    "from enum import Enum\n"
   ]
  },
  {
   "cell_type": "code",
   "execution_count": 2,
   "metadata": {},
   "outputs": [],
   "source": [
    "@dataclass\n",
    "class Crate:\n",
    "  name: str\n",
    "\n",
    "  def __repr__(self):\n",
    "    return f'[{self.name}]'\n",
    "\n",
    "@dataclass\n",
    "class Stack:\n",
    "  name: str\n",
    "  contents: List[Crate]  \n",
    "\n",
    "@dataclass\n",
    "class Move:\n",
    "  count: int\n",
    "  source: int\n",
    "  destination: int\n",
    "\n",
    "  def __repr__(self):\n",
    "    return f'm {self.count} f {self.source} t {self.destination}'"
   ]
  },
  {
   "attachments": {},
   "cell_type": "markdown",
   "metadata": {},
   "source": [
    "A single line of crate information looks like\n",
    "```\n",
    "      [S] [C]         [Z]            \n",
    "```\n",
    "\n",
    "While reading lines of crates we don't know how many stacks there are. A subsequent line contains:\n",
    "```\n",
    "  [F] [J] [P]         [T]     [N]    \n",
    "```\n",
    "\n",
    "It seems fair to rely on the leading whitespace. The input actually contains fixed-length lines which could be used to deduce the total number of stacks. That seems fragile and unnecessary. It is necessary to rely on embedded whitespace however. The only way that we know `[Z]` is above `[T]` is that the crates appear at the same offset into each line."
   ]
  },
  {
   "cell_type": "code",
   "execution_count": 3,
   "metadata": {},
   "outputs": [],
   "source": [
    "def parse_crate_line(crate_line : str):\n",
    "  crates : List[Crate|None] = []\n",
    "  # Let's just unpack 4 characters at a time and make this easy.\n",
    "  for i in range(0, len(crate_line) - 1, 4):\n",
    "    a, b, c = crate_line[i:i+3]\n",
    "    if (a, c) == ('[', ']'):\n",
    "      crates.append(Crate(name=b))\n",
    "    elif (a, c) == (' ', ' '):\n",
    "      crates.append(None)\n",
    "  return crates\n",
    "    "
   ]
  },
  {
   "attachments": {},
   "cell_type": "markdown",
   "metadata": {},
   "source": [
    "_Exercise parse_crate_line()_"
   ]
  },
  {
   "cell_type": "code",
   "execution_count": 4,
   "metadata": {},
   "outputs": [
    {
     "name": "stdout",
     "output_type": "stream",
     "text": [
      "\n",
      "[]\n",
      "    [S] [C]         [Z]\n",
      "[None, [S], [C], None, None, [Z]]\n",
      "[F] [J] [P]         [T]     [N]\n",
      "[[F], [J], [P], None, None, [T], None, [N]]\n",
      "[D] [T] [V] [M] [J] [N] [F] [M] [G]\n",
      "[[D], [T], [V], [M], [J], [N], [F], [M], [G]]\n"
     ]
    }
   ],
   "source": [
    "def exercise_parse_crate_line():\n",
    "  lines = ['',\n",
    "  '    [S] [C]         [Z]',\n",
    "  '[F] [J] [P]         [T]     [N]',\n",
    "  '[D] [T] [V] [M] [J] [N] [F] [M] [G]'\n",
    "  ]\n",
    "\n",
    "  for l in lines:\n",
    "    print(l)\n",
    "    print(parse_crate_line(l))\n",
    "\n",
    "exercise_parse_crate_line()"
   ]
  },
  {
   "cell_type": "code",
   "execution_count": 5,
   "metadata": {},
   "outputs": [],
   "source": [
    "def parse_label_line(line : str):\n",
    "  return [int(i.strip()) for i in line.split()]"
   ]
  },
  {
   "attachments": {},
   "cell_type": "markdown",
   "metadata": {},
   "source": [
    "_Exercise parse_label_line()_"
   ]
  },
  {
   "cell_type": "code",
   "execution_count": 6,
   "metadata": {},
   "outputs": [
    {
     "name": "stdout",
     "output_type": "stream",
     "text": [
      "[1, 2, 3]\n",
      "[1, 2, 3]\n",
      "[1, 2, 3]\n",
      "[1, 2, 3]\n"
     ]
    }
   ],
   "source": [
    "def exercise_parse_label_line():\n",
    "  for l in [' 1 2 3', '1 2   3', '    1    2   3', '1 2 3   ']:\n",
    "    print(parse_label_line(l))\n",
    "\n",
    "exercise_parse_label_line()"
   ]
  },
  {
   "cell_type": "code",
   "execution_count": 7,
   "metadata": {},
   "outputs": [],
   "source": [
    "def parse_move_line(line: str):\n",
    "  parts = line.strip().split()\n",
    "  if len(parts) != 6 or (parts[0], parts[2], parts[4]) != ('move', 'from', 'to'):\n",
    "    raise Exception(f'Can\\'t parse line {line}')\n",
    "  return Move(int(parts[1]), int(parts[3]), int(parts[5]))"
   ]
  },
  {
   "attachments": {},
   "cell_type": "markdown",
   "metadata": {},
   "source": [
    "_Exercise parse_move_line()_"
   ]
  },
  {
   "cell_type": "code",
   "execution_count": 8,
   "metadata": {},
   "outputs": [
    {
     "name": "stdout",
     "output_type": "stream",
     "text": [
      "m 5 f 10 t 20\n"
     ]
    }
   ],
   "source": [
    "def exercise_parse_move_line():\n",
    "  print(parse_move_line('move 5 from 10 to 20'))\n",
    "\n",
    "exercise_parse_move_line()"
   ]
  },
  {
   "cell_type": "code",
   "execution_count": 9,
   "metadata": {},
   "outputs": [],
   "source": [
    "def build_stacks_from_crates(labels : List[str], crate_rows: List[List[Crate|None]]) -> List[Stack]:\n",
    "  stacks : Dict[Stack] = {label: [] for label in labels}\n",
    "  for row in crate_rows:\n",
    "    for stack, crate in zip(stacks.values(), row):\n",
    "      if crate is not None:\n",
    "        stack.append(crate)\n",
    "  for stack in stacks.values():\n",
    "    stack.reverse()\n",
    "  return stacks"
   ]
  },
  {
   "cell_type": "code",
   "execution_count": 10,
   "metadata": {},
   "outputs": [],
   "source": [
    "def load_data(filename : str) -> Dict[int, List[Crate]]:\n",
    "  \"\"\" Data file lines:\n",
    "    * Crates from top to bottom\n",
    "    * A number under each complete stack\n",
    "    * A blank line\n",
    "    * Move instructions\n",
    "  \"\"\"\n",
    "  class DataFileSection(Enum):\n",
    "    CRATES = auto()\n",
    "    MOVES = auto()\n",
    "\n",
    "  section = DataFileSection.CRATES\n",
    "  crate_rows : List[Crate|None] = []\n",
    "  moves : List[Move] = []\n",
    "  with open(filename) as f:\n",
    "    for l in f.readlines():\n",
    "      if len(l.strip()) == 0:\n",
    "        continue\n",
    "      match section:\n",
    "        case DataFileSection.CRATES if l.strip()[0] == '[':\n",
    "          crate_rows.append(parse_crate_line(l))\n",
    "        case DataFileSection.CRATES if l.strip()[0] == '1':\n",
    "          # Assume the first label is 1. Use that to confirm we're on track.\n",
    "          labels = parse_label_line(l)\n",
    "          section = DataFileSection.MOVES\n",
    "        case DataFileSection.MOVES:\n",
    "          moves.append(parse_move_line(l))\n",
    "  stacks = build_stacks_from_crates(labels, crate_rows)\n",
    "  return stacks, moves\n",
    "  "
   ]
  },
  {
   "attachments": {},
   "cell_type": "markdown",
   "metadata": {},
   "source": [
    "_Exercise load_data()_"
   ]
  },
  {
   "cell_type": "code",
   "execution_count": 11,
   "metadata": {},
   "outputs": [],
   "source": [
    "def get_test_filenames():\n",
    "  return [os.path.join('testdata', f) for f in ['tiny.txt', 'small.txt', 'sample.txt']]"
   ]
  },
  {
   "cell_type": "code",
   "execution_count": 12,
   "metadata": {},
   "outputs": [
    {
     "name": "stdout",
     "output_type": "stream",
     "text": [
      "testdata/tiny.txt\n",
      "({1: [[H], [G]], 2: [[F]]}, [m 1 f 1 t 2, m 1 f 2 t 1, m 1 f 1 t 2])\n",
      "testdata/small.txt\n",
      "({1: [[W], [D], [R], [V], [G]], 2: [[X], [T], [B], [V], [H], [S]], 4: [[Y], [M], [N]], 5: [[Z], [J], [N], [F]]}, [m 3 f 1 t 4, m 1 f 4 t 2, m 4 f 4 t 5, m 2 f 5 t 1])\n",
      "testdata/sample.txt\n",
      "({1: [[D], [L], [J], [R], [V], [G], [F]], 2: [[T], [P], [M], [B], [V], [H], [J], [S]], 3: [[V], [H], [M], [F], [D], [G], [P], [C]], 4: [[M], [D], [P], [N], [G], [Q]], 5: [[J], [L], [H], [N], [F]], 6: [[N], [F], [V], [Q], [D], [G], [T], [Z]], 7: [[F], [D], [B], [L]], 8: [[M], [J], [B], [S], [V], [D], [N]], 9: [[G], [L], [D]]}, [m 3 f 4 t 6, m 1 f 5 t 8, m 3 f 7 t 3, m 4 f 5 t 7, m 1 f 7 t 8, m 3 f 9 t 4, m 2 f 8 t 2, m 4 f 4 t 5, m 2 f 5 t 1])\n"
     ]
    }
   ],
   "source": [
    "def exercise_load_data():\n",
    "  for f in get_test_filenames():\n",
    "    print(f'{f}')\n",
    "    print(f'{load_data(f)}')\n",
    "\n",
    "exercise_load_data()"
   ]
  },
  {
   "cell_type": "code",
   "execution_count": 13,
   "metadata": {},
   "outputs": [],
   "source": [
    "def perform_moves(stacks: Dict[int, List[Crate]], moves: List[Move]):\n",
    "  for move in moves:\n",
    "    crates = stacks[move.source][-move.count:]\n",
    "    crates.reverse()\n",
    "    stacks[move.destination] += crates\n",
    "    del stacks[move.source][-move.count:]\n"
   ]
  },
  {
   "cell_type": "code",
   "execution_count": 14,
   "metadata": {},
   "outputs": [
    {
     "name": "stdout",
     "output_type": "stream",
     "text": [
      "{1: [[m], [n]], 2: [[a], [b], [c], [o]]}\n",
      "{1: [[m]], 2: [[a], [b], [c], [o], [n]]}\n",
      "{1: [[m], [n], [o], [c], [b]], 2: [[a]]}\n",
      "{1: [[m], [n], [o]], 2: [[a], [b], [c]]}\n",
      "{1: [[m], [n], [o]], 2: [[a], [b], [c]]}\n",
      "{1: [[m], [n], [o]], 2: [[a], [b], [c]]}\n"
     ]
    }
   ],
   "source": [
    "def exercise_perform_moves():\n",
    "    def starting_stacks():\n",
    "        return {\n",
    "            1 : [Crate('m'), Crate('n'), Crate('o')],\n",
    "            2 : [Crate('a'), Crate('b'), Crate('c')]\n",
    "        }\n",
    "\n",
    "    all_moves = [\n",
    "        [Move(1, 1, 2)],\n",
    "        [Move(3, 1, 2), Move(1, 2, 1)],\n",
    "        [Move(3, 2, 1), Move(1, 1, 2)],\n",
    "        [Move(1, 2, 1), Move(1, 1, 2)],\n",
    "        [Move(3, 2, 1), Move(3, 1, 2)],\n",
    "        [Move(3, 2, 1), Move(3, 1, 2), Move(1, 2, 1), Move(2, 1, 2), Move(1, 2, 1)]\n",
    "    ]\n",
    "    for moves in all_moves:\n",
    "        stacks = starting_stacks()\n",
    "        perform_moves(stacks, moves)\n",
    "        print(stacks)\n",
    "\n",
    "exercise_perform_moves()"
   ]
  },
  {
   "cell_type": "code",
   "execution_count": 15,
   "metadata": {},
   "outputs": [],
   "source": [
    "def stack_tops(stacks):\n",
    "    letter = lambda x : '0' if len(x) == 0 else x[-1].name\n",
    "    return ''.join([letter(s) for s in stacks.values()])"
   ]
  },
  {
   "cell_type": "code",
   "execution_count": 16,
   "metadata": {},
   "outputs": [],
   "source": [
    "def solver(filename = 'input.txt'):\n",
    "    stacks, moves = load_data(filename)\n",
    "    perform_moves(stacks, moves)\n",
    "    return stack_tops(stacks)"
   ]
  },
  {
   "cell_type": "code",
   "execution_count": 17,
   "metadata": {},
   "outputs": [
    {
     "name": "stdout",
     "output_type": "stream",
     "text": [
      "testdata/tiny.txt\n",
      "start {1: [[H], [G]], 2: [[F]]}\n",
      "end {1: [[H]], 2: [[F], [G]]}\n",
      " HG\n",
      "testdata/small.txt\n",
      "start {1: [[W], [D], [R], [V], [G]], 2: [[X], [T], [B], [V], [H], [S]], 4: [[Y], [M], [N]], 5: [[Z], [J], [N], [F]]}\n",
      "end {1: [[W], [D], [M], [N]], 2: [[X], [T], [B], [V], [H], [S], [R]], 4: [[Y]], 5: [[Z], [J], [N], [F], [V], [G]]}\n",
      " NRYG\n",
      "testdata/sample.txt\n",
      "start {1: [[D], [L], [J], [R], [V], [G], [F]], 2: [[T], [P], [M], [B], [V], [H], [J], [S]], 3: [[V], [H], [M], [F], [D], [G], [P], [C]], 4: [[M], [D], [P], [N], [G], [Q]], 5: [[J], [L], [H], [N], [F]], 6: [[N], [F], [V], [Q], [D], [G], [T], [Z]], 7: [[F], [D], [B], [L]], 8: [[M], [J], [B], [S], [V], [D], [N]], 9: [[G], [L], [D]]}\n",
      "end {1: [[D], [L], [J], [R], [V], [G], [F], [P], [D]], 2: [[T], [P], [M], [B], [V], [H], [J], [S], [J], [F]], 3: [[V], [H], [M], [F], [D], [G], [P], [C], [L], [B], [D]], 4: [[M], [D]], 5: [[G], [L]], 6: [[N], [F], [V], [Q], [D], [G], [T], [Z], [Q], [G], [N]], 7: [[F], [N], [H], [L]], 8: [[M], [J], [B], [S], [V], [D], [N]], 9: []}\n",
      " DFDDLNLN0\n"
     ]
    }
   ],
   "source": [
    "def exercise_solver():\n",
    "  for f in get_test_filenames():\n",
    "    print(f'{f}')\n",
    "    stacks, moves = load_data(f)\n",
    "    print(f'start {stacks}')\n",
    "    perform_moves(stacks, moves)\n",
    "    print(f'end {stacks}')\n",
    "    print(f' {solver(f)}')\n",
    "\n",
    "exercise_solver()\n"
   ]
  },
  {
   "attachments": {},
   "cell_type": "markdown",
   "metadata": {},
   "source": [
    "# Solution"
   ]
  },
  {
   "cell_type": "code",
   "execution_count": 18,
   "metadata": {},
   "outputs": [
    {
     "data": {
      "text/plain": [
       "'QMBMJDFTD'"
      ]
     },
     "execution_count": 18,
     "metadata": {},
     "output_type": "execute_result"
    }
   ],
   "source": [
    "solver()"
   ]
  }
 ],
 "metadata": {
  "kernelspec": {
   "display_name": "Python 3",
   "language": "python",
   "name": "python3"
  },
  "language_info": {
   "codemirror_mode": {
    "name": "ipython",
    "version": 3
   },
   "file_extension": ".py",
   "mimetype": "text/x-python",
   "name": "python",
   "nbconvert_exporter": "python",
   "pygments_lexer": "ipython3",
   "version": "3.10.6"
  },
  "orig_nbformat": 4,
  "vscode": {
   "interpreter": {
    "hash": "e7370f93d1d0cde622a1f8e1c04877d8463912d04d973331ad4851f04de6915a"
   }
  }
 },
 "nbformat": 4,
 "nbformat_minor": 2
}
