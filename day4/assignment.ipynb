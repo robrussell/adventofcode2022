{
 "cells": [
  {
   "cell_type": "markdown",
   "metadata": {},
   "source": [
    "# Day 4: Camp Cleanup\n",
    "\n",
    "In how many assignment pairs does one range fully contain the other?"
   ]
  },
  {
   "cell_type": "code",
   "execution_count": 1,
   "metadata": {},
   "outputs": [],
   "source": [
    "from typing import List"
   ]
  },
  {
   "cell_type": "code",
   "execution_count": 2,
   "metadata": {},
   "outputs": [],
   "source": [
    "def get_bounds(input : str) -> List[int]:\n",
    "    bounds = [int(b) for b in input.split('-')]\n",
    "    if len(bounds) != 2:\n",
    "        raise Exception('Must have 2 elements')\n",
    "    return bounds"
   ]
  },
  {
   "cell_type": "code",
   "execution_count": 3,
   "metadata": {},
   "outputs": [],
   "source": [
    "def get_ranges(input : str) -> List[str]:\n",
    "    ranges = [r for r in input.split(',')]\n",
    "    if len(ranges) != 2:\n",
    "        raise Exception('Must have 2 elements')\n",
    "    return ranges"
   ]
  },
  {
   "cell_type": "code",
   "execution_count": 10,
   "metadata": {},
   "outputs": [],
   "source": [
    "def load_data(filename : str = 'input.txt'):\n",
    "    boundses = []\n",
    "    with open(filename) as f:\n",
    "        for line in f.readlines():\n",
    "            line = line.strip()\n",
    "            if len(line) == 0 or line[0] == '#':\n",
    "                continue\n",
    "            bounds = [get_bounds(r) for r in get_ranges(line)]\n",
    "            boundses.append(bounds)\n",
    "    return boundses"
   ]
  },
  {
   "cell_type": "code",
   "execution_count": 11,
   "metadata": {},
   "outputs": [],
   "source": [
    "def test_filenames():\n",
    "    return [os.path.join('testdata', f) for f in ['sample1.txt']]"
   ]
  },
  {
   "cell_type": "code",
   "execution_count": 12,
   "metadata": {},
   "outputs": [
    {
     "name": "stdout",
     "output_type": "stream",
     "text": [
      "testdata/sample1.txt: [[[2, 4], [6, 8]], [[2, 3], [4, 5]], [[5, 7], [7, 9]], [[2, 8], [3, 7]], [[6, 6], [4, 6]], [[2, 6], [4, 8]]]\n"
     ]
    }
   ],
   "source": [
    "for f in test_filenames():\n",
    "    print(f'{f}: {load_data(f)}')"
   ]
  },
  {
   "cell_type": "code",
   "execution_count": null,
   "metadata": {},
   "outputs": [],
   "source": []
  }
 ],
 "metadata": {
  "kernelspec": {
   "display_name": "Python 3.10.6 64-bit",
   "language": "python",
   "name": "python3"
  },
  "language_info": {
   "codemirror_mode": {
    "name": "ipython",
    "version": 3
   },
   "file_extension": ".py",
   "mimetype": "text/x-python",
   "name": "python",
   "nbconvert_exporter": "python",
   "pygments_lexer": "ipython3",
   "version": "3.10.6"
  },
  "orig_nbformat": 4,
  "vscode": {
   "interpreter": {
    "hash": "916dbcbb3f70747c44a77c7bcd40155683ae19c65e1c03b4aa3499c5328201f1"
   }
  }
 },
 "nbformat": 4,
 "nbformat_minor": 2
}
