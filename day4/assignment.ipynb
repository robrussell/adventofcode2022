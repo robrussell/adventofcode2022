{
 "cells": [
  {
   "cell_type": "markdown",
   "metadata": {},
   "source": [
    "# Day 4: Camp Cleanup\n",
    "\n",
    "In how many assignment pairs does one range fully contain the other?"
   ]
  },
  {
   "cell_type": "code",
   "execution_count": 1,
   "metadata": {},
   "outputs": [],
   "source": [
    "import os\n",
    "from typing import List"
   ]
  },
  {
   "cell_type": "code",
   "execution_count": 2,
   "metadata": {},
   "outputs": [],
   "source": [
    "def get_bounds(input : str) -> List[int]:\n",
    "    bounds = [int(b) for b in input.split('-')]\n",
    "    if len(bounds) != 2:\n",
    "        raise Exception('Must have 2 elements')\n",
    "    return bounds"
   ]
  },
  {
   "cell_type": "code",
   "execution_count": 3,
   "metadata": {},
   "outputs": [],
   "source": [
    "def get_ranges(input : str) -> List[str]:\n",
    "    ranges = [r for r in input.split(',')]\n",
    "    if len(ranges) != 2:\n",
    "        raise Exception('Must have 2 elements')\n",
    "    return ranges"
   ]
  },
  {
   "cell_type": "code",
   "execution_count": 4,
   "metadata": {},
   "outputs": [],
   "source": [
    "def load_data(filename : str) -> List[List[int]]:\n",
    "    boundses = []\n",
    "    with open(filename) as f:\n",
    "        for line in f.readlines():\n",
    "            line = line.strip()\n",
    "            if len(line) == 0 or line[0] == '#':\n",
    "                continue\n",
    "            bounds = [get_bounds(r) for r in get_ranges(line)]\n",
    "            boundses.append(bounds)\n",
    "    return boundses"
   ]
  },
  {
   "cell_type": "code",
   "execution_count": 5,
   "metadata": {},
   "outputs": [],
   "source": [
    "def test_filenames():\n",
    "    return [os.path.join('testdata', f) for f in ['cases.txt', 'sample1.txt', 'sample2.txt']]"
   ]
  },
  {
   "cell_type": "markdown",
   "metadata": {},
   "source": [
    "_Exercise load_data()_"
   ]
  },
  {
   "cell_type": "code",
   "execution_count": 6,
   "metadata": {},
   "outputs": [
    {
     "name": "stdout",
     "output_type": "stream",
     "text": [
      "testdata/cases.txt: [[[1, 1], [2, 2]], [[1, 10], [20, 200]], [[321, 322], [2000, 2100]], [[200, 200], [150, 150]], [[2200, 3200], [44, 55]], [[666, 777], [88, 99]], [[55, 55], [54, 56]], [[77, 88], [3, 333]], [[7000, 8000], [1, 8001]], [[66, 68], [66, 66]], [[66, 68], [67, 67]], [[66, 68], [68, 68]]]\n",
      "testdata/sample1.txt: [[[2, 4], [6, 8]], [[2, 3], [4, 5]], [[5, 7], [7, 9]], [[2, 8], [3, 7]], [[6, 6], [4, 6]], [[2, 6], [4, 8]]]\n",
      "testdata/sample2.txt: [[[8, 41], [8, 79]], [[1, 71], [2, 71]], [[11, 74], [74, 75]], [[44, 96], [43, 96]], [[79, 79], [3, 78]], [[67, 86], [50, 93]], [[15, 42], [41, 93]], [[21, 98], [20, 99]], [[42, 53], [13, 41]], [[51, 80], [38, 79]], [[13, 13], [13, 93]], [[14, 20], [20, 66]]]\n"
     ]
    },
    {
     "data": {
      "text/plain": [
       "[None, None, None]"
      ]
     },
     "execution_count": 6,
     "metadata": {},
     "output_type": "execute_result"
    }
   ],
   "source": [
    "(lambda: [print(f'{f}: {load_data(f)}') for f in test_filenames()])()"
   ]
  },
  {
   "cell_type": "code",
   "execution_count": 7,
   "metadata": {},
   "outputs": [],
   "source": [
    "def contains(bounds1 : List[int], bounds2 : List[int]):\n",
    "  \"\"\" Returns True if bounds1 contains bounds2 or bounds2 contains bounds1.\n",
    "  \"\"\"\n",
    "  if min(bounds1) == min(bounds2) or max(bounds1) == max(bounds2):\n",
    "    return True\n",
    "  if min(bounds1) < min(bounds2):\n",
    "    return max(bounds1) > max(bounds2)\n",
    "  if min(bounds2) < min(bounds1):\n",
    "    return max(bounds2) > max(bounds1)"
   ]
  },
  {
   "cell_type": "markdown",
   "metadata": {},
   "source": [
    "_Exercise contains()_"
   ]
  },
  {
   "cell_type": "code",
   "execution_count": 8,
   "metadata": {},
   "outputs": [
    {
     "name": "stdout",
     "output_type": "stream",
     "text": [
      "testdata/cases.txt:\n",
      "  False: [[1, 1], [2, 2]]\n",
      "  False: [[1, 10], [20, 200]]\n",
      "  False: [[321, 322], [2000, 2100]]\n",
      "  False: [[200, 200], [150, 150]]\n",
      "  False: [[2200, 3200], [44, 55]]\n",
      "  False: [[666, 777], [88, 99]]\n",
      "  True: [[55, 55], [54, 56]]\n",
      "  True: [[77, 88], [3, 333]]\n",
      "  True: [[7000, 8000], [1, 8001]]\n",
      "  True: [[66, 68], [66, 66]]\n",
      "  True: [[66, 68], [67, 67]]\n",
      "  True: [[66, 68], [68, 68]]\n",
      "testdata/sample1.txt:\n",
      "  False: [[2, 4], [6, 8]]\n",
      "  False: [[2, 3], [4, 5]]\n",
      "  False: [[5, 7], [7, 9]]\n",
      "  True: [[2, 8], [3, 7]]\n",
      "  True: [[6, 6], [4, 6]]\n",
      "  False: [[2, 6], [4, 8]]\n",
      "testdata/sample2.txt:\n",
      "  True: [[8, 41], [8, 79]]\n",
      "  True: [[1, 71], [2, 71]]\n",
      "  False: [[11, 74], [74, 75]]\n",
      "  True: [[44, 96], [43, 96]]\n",
      "  False: [[79, 79], [3, 78]]\n",
      "  True: [[67, 86], [50, 93]]\n",
      "  False: [[15, 42], [41, 93]]\n",
      "  True: [[21, 98], [20, 99]]\n",
      "  False: [[42, 53], [13, 41]]\n",
      "  False: [[51, 80], [38, 79]]\n",
      "  True: [[13, 13], [13, 93]]\n",
      "  False: [[14, 20], [20, 66]]\n"
     ]
    }
   ],
   "source": [
    "def exercise_contains():\n",
    "  for f in test_filenames():\n",
    "    print(f'{f}:')\n",
    "    for range in load_data(f):\n",
    "      print(f'  {contains(range[0], range[1])}: {range}')\n",
    "\n",
    "exercise_contains()"
   ]
  },
  {
   "cell_type": "markdown",
   "metadata": {},
   "source": [
    "# Solver"
   ]
  },
  {
   "cell_type": "code",
   "execution_count": 9,
   "metadata": {},
   "outputs": [],
   "source": [
    "def solver(filename: str = 'input.txt'):\n",
    "  return sum([1 if contains(range[0], range[1]) else 0 for range in load_data(filename)])"
   ]
  },
  {
   "cell_type": "markdown",
   "metadata": {},
   "source": [
    "_Exercise solver()_"
   ]
  },
  {
   "cell_type": "code",
   "execution_count": 10,
   "metadata": {},
   "outputs": [
    {
     "name": "stdout",
     "output_type": "stream",
     "text": [
      "testdata/cases.txt: 6\n",
      "testdata/sample1.txt: 2\n",
      "testdata/sample2.txt: 6\n"
     ]
    }
   ],
   "source": [
    "def exercise_solver():\n",
    "  for f in test_filenames():\n",
    "    print(f'{f}: {solver(f)}')\n",
    "\n",
    "exercise_solver()"
   ]
  },
  {
   "cell_type": "code",
   "execution_count": 11,
   "metadata": {},
   "outputs": [
    {
     "name": "stdout",
     "output_type": "stream",
     "text": [
      "569\n"
     ]
    }
   ],
   "source": [
    "print(solver())"
   ]
  },
  {
   "cell_type": "markdown",
   "metadata": {},
   "source": [
    "Part 2 just asks for overlap instead of contains, let's do it here"
   ]
  },
  {
   "cell_type": "code",
   "execution_count": 12,
   "metadata": {},
   "outputs": [],
   "source": [
    "def overlaps(bounds1: List[int], bounds2: List[int]) -> bool:\n",
    "  \"\"\" Returns True if bounds1 and bounds2 overlap at all.\n",
    "  \"\"\"\n",
    "  if (min(bounds1) == min(bounds2) or max(bounds1) == max(bounds2)\n",
    "      or min(bounds1) == max(bounds2) or max(bounds1) == min(bounds2)):\n",
    "    return True\n",
    "  if min(bounds1) < min(bounds2):\n",
    "    return max(bounds1) > min(bounds2)\n",
    "  if min(bounds2) < min(bounds1):\n",
    "    return max(bounds2) > min(bounds1)"
   ]
  },
  {
   "cell_type": "markdown",
   "metadata": {},
   "source": [
    "# Solver, part the second"
   ]
  },
  {
   "cell_type": "code",
   "execution_count": 13,
   "metadata": {},
   "outputs": [],
   "source": [
    "def overlap_solver(filename: str = 'input.txt'):\n",
    "  return sum([1 if overlaps(range[0], range[1]) else 0 for range in load_data(filename)])"
   ]
  },
  {
   "cell_type": "markdown",
   "metadata": {},
   "source": [
    "_Exercise solver()_"
   ]
  },
  {
   "cell_type": "code",
   "execution_count": 14,
   "metadata": {},
   "outputs": [
    {
     "name": "stdout",
     "output_type": "stream",
     "text": [
      "testdata/cases.txt: 6\n",
      "testdata/sample1.txt: 3\n",
      "testdata/sample2.txt: 8\n"
     ]
    }
   ],
   "source": [
    "def exercise_overlap_solver():\n",
    "  for f in test_filenames():\n",
    "    print(f'{f}: {overlap_solver(f)}')\n",
    "\n",
    "exercise_overlap_solver()"
   ]
  },
  {
   "cell_type": "code",
   "execution_count": 15,
   "metadata": {},
   "outputs": [
    {
     "name": "stdout",
     "output_type": "stream",
     "text": [
      "824\n"
     ]
    }
   ],
   "source": [
    "print(overlap_solver())"
   ]
  }
 ],
 "metadata": {
  "kernelspec": {
   "display_name": "Python 3.10.6 64-bit",
   "language": "python",
   "name": "python3"
  },
  "language_info": {
   "codemirror_mode": {
    "name": "ipython",
    "version": 3
   },
   "file_extension": ".py",
   "mimetype": "text/x-python",
   "name": "python",
   "nbconvert_exporter": "python",
   "pygments_lexer": "ipython3",
   "version": "3.10.6"
  },
  "orig_nbformat": 4,
  "vscode": {
   "interpreter": {
    "hash": "e7370f93d1d0cde622a1f8e1c04877d8463912d04d973331ad4851f04de6915a"
   }
  }
 },
 "nbformat": 4,
 "nbformat_minor": 2
}
