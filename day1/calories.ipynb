{
 "cells": [
  {
   "cell_type": "code",
   "execution_count": 1,
   "metadata": {},
   "outputs": [],
   "source": [
    "from typing import List\n",
    "import os"
   ]
  },
  {
   "cell_type": "code",
   "execution_count": 2,
   "metadata": {},
   "outputs": [],
   "source": [
    "def load_data(filename) -> List[List[int]]:\n",
    "  all_lines : List[List[int]] = []\n",
    "  elf_lines : List[int] = []\n",
    "  with open(filename) as f:\n",
    "    for line in f.readlines():\n",
    "      if len(line.strip()):\n",
    "        # Assume anything that's not whitespace on the line is an int.\n",
    "        elf_lines.append(int(line))\n",
    "      else:\n",
    "        # Current list is complete. Append this list to the list of lists and reset.\n",
    "        if len(elf_lines) > 0:\n",
    "          all_lines.append(elf_lines)\n",
    "        elf_lines = []\n",
    "    if len(elf_lines) > 0:\n",
    "      all_lines.append(elf_lines)\n",
    "  return all_lines"
   ]
  },
  {
   "cell_type": "code",
   "execution_count": 3,
   "metadata": {},
   "outputs": [
    {
     "name": "stdout",
     "output_type": "stream",
     "text": [
      "empty.txt []\n",
      "single.txt [[100, 200, 300]]\n",
      "solos.txt [[10], [20], [30], [40]]\n",
      "three.txt [[1, 2, 3], [5, 10, 15, 20, 25], [100, 200]]\n",
      "four.txt [[5, 0, 0, 20, 25], [3000, 3000, 100], [100, 200]]\n"
     ]
    }
   ],
   "source": [
    "for f in ['empty.txt', 'single.txt', 'solos.txt', 'three.txt', 'four.txt']:\n",
    "  print(f'{f} {load_data(os.path.join(\"testdata\", f))}')"
   ]
  },
  {
   "cell_type": "code",
   "execution_count": 4,
   "metadata": {},
   "outputs": [],
   "source": [
    "def solver(filename : str = 'input.txt'):\n",
    "  all_elf_calories = load_data(filename)\n",
    "  if not len(all_elf_calories):\n",
    "    return 0\n",
    "  elf_totals = [sum(x) for x in all_elf_calories]\n",
    "  max_elf_total = max(elf_totals)\n",
    "  return max_elf_total"
   ]
  },
  {
   "cell_type": "code",
   "execution_count": 5,
   "metadata": {},
   "outputs": [
    {
     "name": "stdout",
     "output_type": "stream",
     "text": [
      "empty.txt 0\n",
      "single.txt 600\n",
      "solos.txt 40\n",
      "three.txt 300\n",
      "four.txt 6100\n"
     ]
    }
   ],
   "source": [
    "for f in ['empty.txt', 'single.txt', 'solos.txt', 'three.txt', 'four.txt']:\n",
    "  print(f'{f} {solver(os.path.join(\"testdata\", f))}')"
   ]
  },
  {
   "cell_type": "code",
   "execution_count": 6,
   "metadata": {},
   "outputs": [
    {
     "name": "stdout",
     "output_type": "stream",
     "text": [
      "72017\n"
     ]
    }
   ],
   "source": [
    "# Solution for problem 1\n",
    "print(solver())"
   ]
  },
  {
   "cell_type": "code",
   "execution_count": 7,
   "metadata": {},
   "outputs": [],
   "source": [
    "def solver_top3(filename : str = 'input.txt'):\n",
    "  all_elf_calories = load_data(filename)\n",
    "  if not len(all_elf_calories):\n",
    "    return 0\n",
    "  elf_totals = [sum(x) for x in all_elf_calories]\n",
    "  sorted_totals = sorted(elf_totals, reverse=True)\n",
    "  if len(sorted_totals) < 3:\n",
    "    return sum(sorted_totals)\n",
    "  return sorted_totals[0] + sorted_totals[1] + sorted_totals[2]"
   ]
  },
  {
   "cell_type": "code",
   "execution_count": 8,
   "metadata": {},
   "outputs": [
    {
     "name": "stdout",
     "output_type": "stream",
     "text": [
      "empty.txt 0\n",
      "single.txt 600\n",
      "solos.txt 90\n",
      "three.txt 381\n",
      "four.txt 6450\n",
      "octal.txt 250\n"
     ]
    }
   ],
   "source": [
    "for f in ['empty.txt', 'single.txt', 'solos.txt', 'three.txt', 'four.txt', 'octal.txt']:\n",
    "  print(f'{f} {solver_top3(os.path.join(\"testdata\", f))}')"
   ]
  },
  {
   "cell_type": "code",
   "execution_count": 9,
   "metadata": {},
   "outputs": [
    {
     "name": "stdout",
     "output_type": "stream",
     "text": [
      "212520\n"
     ]
    }
   ],
   "source": [
    "# Solution for problem 2\n",
    "print(solver_top3())"
   ]
  }
 ],
 "metadata": {
  "kernelspec": {
   "display_name": "Python 3.10.6 64-bit",
   "language": "python",
   "name": "python3"
  },
  "language_info": {
   "codemirror_mode": {
    "name": "ipython",
    "version": 3
   },
   "file_extension": ".py",
   "mimetype": "text/x-python",
   "name": "python",
   "nbconvert_exporter": "python",
   "pygments_lexer": "ipython3",
   "version": "3.10.6"
  },
  "orig_nbformat": 4,
  "vscode": {
   "interpreter": {
    "hash": "916dbcbb3f70747c44a77c7bcd40155683ae19c65e1c03b4aa3499c5328201f1"
   }
  }
 },
 "nbformat": 4,
 "nbformat_minor": 2
}
