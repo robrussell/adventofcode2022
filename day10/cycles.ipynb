{
 "cells": [
  {
   "attachments": {},
   "cell_type": "markdown",
   "metadata": {},
   "source": [
    "# Day 10: Cathode-Ray Tube\n",
    "\n",
    "_Find the signal strength during the 20th, 60th, 100th, 140th, 180th, and 220th cycles. What is the sum of these six signal strengths?_\n",
    "\n",
    "Simulate executing the program given in the input.\n",
    "\n",
    "Signal strength = cycle number * register value\n",
    "\n",
    "Register value `X` starts at 1 and changes with the `addx` instruction\n",
    "\n",
    "Two instructions:\n",
    "\n",
    "`addx V`\n",
    "\n",
    "* takes two cycles\n",
    "* adds integer `V` to `X`\n",
    "* new value shows up in `X` at the end of the second cycle\n",
    "\n",
    "`noop`\n",
    "\n",
    "* takes one cycle\n",
    "* does nothing"
   ]
  },
  {
   "cell_type": "code",
   "execution_count": 1,
   "metadata": {},
   "outputs": [],
   "source": [
    "from dataclasses import dataclass\n",
    "from dataclasses import field\n",
    "from typing import Dict\n",
    "from typing import List\n",
    "from typing import Optional\n",
    "from typing import Callable\n",
    "from enum import Enum\n",
    "from enum import auto\n"
   ]
  },
  {
   "cell_type": "code",
   "execution_count": 2,
   "metadata": {},
   "outputs": [],
   "source": [
    "class OpCode(Enum):\n",
    "  ADDX = auto()\n",
    "  NOOP = auto()\n",
    "\n",
    "@dataclass\n",
    "class Instruction:\n",
    "  op_code : OpCode\n",
    "  operand : Optional[int] = None\n",
    "\n",
    "@dataclass\n",
    "class Program:\n",
    "  instructions : List[Instruction]\n",
    "\n",
    "def instruction_cycles(instruction : Instruction) -> int:\n",
    "  \"\"\" Gives the number of cycles required to execute `instruction`. \"\"\"\n",
    "  return {\n",
    "    OpCode.ADDX: 2,\n",
    "    OpCode.NOOP: 1\n",
    "  }[instruction.op_code]\n"
   ]
  },
  {
   "cell_type": "code",
   "execution_count": 3,
   "metadata": {},
   "outputs": [],
   "source": [
    "@dataclass\n",
    "class Cpu:\n",
    "  program : Program\n",
    "  register : int = field(init=False, default=1)\n",
    "  cycle_counter: int = field(init=False, default=0)\n",
    "  program_counter: int = field(init=False, default=0)\n",
    "  watches: Dict[int, List[Callable]] = field(init=False, default_factory=dict)\n",
    "\n",
    "  def add_watch(self, cycle : int, watch : Callable):\n",
    "    \"\"\" Add a function to call after `cycle` cycles.\"\"\"\n",
    "    if cycle not in self.watches.keys():\n",
    "      self.watches[cycle] = []\n",
    "    self.watches[cycle].append(watch)\n",
    "  \n",
    "  def execute_instruction(self, instruction : Instruction):\n",
    "    if instruction.op_code == OpCode.ADDX:\n",
    "      if not instruction.operand:\n",
    "        raise Exception('ADDX requires an int operand.')\n",
    "      self.register += instruction.operand\n",
    "  \n",
    "  def run(self, state: Dict[int, int]):\n",
    "    current_instruction = self.program.instructions[self.program_counter]\n",
    "    current_instruction_completion_cycle = instruction_cycles(current_instruction)\n",
    "    while True:\n",
    "      # Watches are called _during_ the cycle, not after.\n",
    "      if self.cycle_counter in self.watches.keys():\n",
    "        for w in self.watches[self.cycle_counter]:\n",
    "          w(self, state)\n",
    "      if self.cycle_counter == current_instruction_completion_cycle:\n",
    "        self.execute_instruction(current_instruction)\n",
    "        self.program_counter += 1\n",
    "        if self.program_counter >= len(self.program.instructions):\n",
    "          break\n",
    "        current_instruction = self.program.instructions[self.program_counter]\n",
    "        current_instruction_completion_cycle += instruction_cycles(current_instruction)\n",
    "      self.cycle_counter += 1"
   ]
  },
  {
   "cell_type": "code",
   "execution_count": 4,
   "metadata": {},
   "outputs": [],
   "source": [
    "def load_data(filename : str) -> Program:\n",
    "  program = Program([])\n",
    "  with open(filename) as f:\n",
    "    for line in f.readlines():\n",
    "      line = line.strip()\n",
    "      if len(line) == 0 or line[0] == '#':\n",
    "        continue\n",
    "      match line.split():\n",
    "        case ['noop']:\n",
    "          program.instructions.append(Instruction(OpCode.NOOP))\n",
    "        case ['addx', v]:\n",
    "          program.instructions.append(Instruction(OpCode.ADDX, operand=int(v)))\n",
    "        case _:\n",
    "          raise Exception(f'Unknown instruction {line}')\n",
    "    return program"
   ]
  },
  {
   "cell_type": "code",
   "execution_count": 5,
   "metadata": {},
   "outputs": [],
   "source": [
    "def solver(filename : str):\n",
    "  inspect_cycles = [20, 60, 100, 140, 180, 220]\n",
    "  def save_signal_strength(cpu: Cpu, state: Dict[int, int]):\n",
    "    state[cpu.cycle_counter] = cpu.cycle_counter * cpu.register\n",
    "  program = load_data(filename)\n",
    "  cpu = Cpu(program)\n",
    "  for c in inspect_cycles:\n",
    "    cpu.add_watch(c, save_signal_strength)\n",
    "  state = dict()\n",
    "  cpu.run(state)\n",
    "  print(sum(state.values()))"
   ]
  },
  {
   "cell_type": "code",
   "execution_count": 6,
   "metadata": {},
   "outputs": [
    {
     "ename": "IndexError",
     "evalue": "list index out of range",
     "output_type": "error",
     "traceback": [
      "\u001b[0;31m---------------------------------------------------------------------------\u001b[0m",
      "\u001b[0;31mIndexError\u001b[0m                                Traceback (most recent call last)",
      "Cell \u001b[0;32mIn[6], line 1\u001b[0m\n\u001b[0;32m----> 1\u001b[0m solver(\u001b[39m'\u001b[39;49m\u001b[39minput.txt\u001b[39;49m\u001b[39m'\u001b[39;49m)\n",
      "Cell \u001b[0;32mIn[5], line 10\u001b[0m, in \u001b[0;36msolver\u001b[0;34m(filename)\u001b[0m\n\u001b[1;32m      8\u001b[0m   cpu\u001b[39m.\u001b[39madd_watch(c, save_signal_strength)\n\u001b[1;32m      9\u001b[0m state \u001b[39m=\u001b[39m \u001b[39mdict\u001b[39m()\n\u001b[0;32m---> 10\u001b[0m cpu\u001b[39m.\u001b[39;49mrun(state)\n\u001b[1;32m     11\u001b[0m \u001b[39mprint\u001b[39m(\u001b[39msum\u001b[39m(state\u001b[39m.\u001b[39mvalues()))\n",
      "Cell \u001b[0;32mIn[3], line 34\u001b[0m, in \u001b[0;36mCpu.run\u001b[0;34m(self, state)\u001b[0m\n\u001b[1;32m     32\u001b[0m   \u001b[39mif\u001b[39;00m \u001b[39mself\u001b[39m\u001b[39m.\u001b[39mprogram_counter \u001b[39m>\u001b[39m \u001b[39mlen\u001b[39m(\u001b[39mself\u001b[39m\u001b[39m.\u001b[39mprogram\u001b[39m.\u001b[39minstructions):\n\u001b[1;32m     33\u001b[0m     \u001b[39mbreak\u001b[39;00m\n\u001b[0;32m---> 34\u001b[0m   current_instruction \u001b[39m=\u001b[39m \u001b[39mself\u001b[39;49m\u001b[39m.\u001b[39;49mprogram\u001b[39m.\u001b[39;49minstructions[\u001b[39mself\u001b[39;49m\u001b[39m.\u001b[39;49mprogram_counter]\n\u001b[1;32m     35\u001b[0m   current_instruction_completion_cycle \u001b[39m+\u001b[39m\u001b[39m=\u001b[39m instruction_cycles(current_instruction)\n\u001b[1;32m     36\u001b[0m \u001b[39mself\u001b[39m\u001b[39m.\u001b[39mcycle_counter \u001b[39m+\u001b[39m\u001b[39m=\u001b[39m \u001b[39m1\u001b[39m\n",
      "\u001b[0;31mIndexError\u001b[0m: list index out of range"
     ]
    }
   ],
   "source": [
    "solver('input.txt')"
   ]
  },
  {
   "cell_type": "code",
   "execution_count": null,
   "metadata": {},
   "outputs": [],
   "source": []
  }
 ],
 "metadata": {
  "kernelspec": {
   "display_name": "Python 3",
   "language": "python",
   "name": "python3"
  },
  "language_info": {
   "codemirror_mode": {
    "name": "ipython",
    "version": 3
   },
   "file_extension": ".py",
   "mimetype": "text/x-python",
   "name": "python",
   "nbconvert_exporter": "python",
   "pygments_lexer": "ipython3",
   "version": "3.10.6"
  },
  "orig_nbformat": 4,
  "vscode": {
   "interpreter": {
    "hash": "e7370f93d1d0cde622a1f8e1c04877d8463912d04d973331ad4851f04de6915a"
   }
  }
 },
 "nbformat": 4,
 "nbformat_minor": 2
}
