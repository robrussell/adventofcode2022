{
 "cells": [
  {
   "attachments": {},
   "cell_type": "markdown",
   "metadata": {},
   "source": [
    "# Day 7: No Space Left On Device\n",
    "\n",
    "Input is command history from a shell on a device. Parse it to answer:\n",
    "\n",
    "_Find all of the directories with a total size of at most 100000. What is the sum of the total sizes of those directories?_\n",
    "\n",
    "In the example (copied below) the answer is `a` and `e`; the sum of their total sizes is 95437 (94853 + 584).\n",
    "Files can be counted more than once.\n",
    "\n",
    "\n"
   ]
  },
  {
   "attachments": {},
   "cell_type": "markdown",
   "metadata": {},
   "source": [
    "## Example \n",
    "\n",
    "```\n",
    "$ cd /\n",
    "$ ls\n",
    "dir a\n",
    "14848514 b.txt\n",
    "8504156 c.dat\n",
    "dir d\n",
    "$ cd a\n",
    "$ ls\n",
    "dir e\n",
    "29116 f\n",
    "2557 g\n",
    "62596 h.lst\n",
    "$ cd e\n",
    "$ ls\n",
    "584 i\n",
    "$ cd ..\n",
    "$ cd ..\n",
    "$ cd d\n",
    "$ ls\n",
    "4060174 j\n",
    "8033020 d.log\n",
    "5626152 d.ext\n",
    "7214296 k\n",
    "```\n",
    "\n",
    "Implies this tree\n",
    "\n",
    "```\n",
    "- / (dir)\n",
    "  - a (dir)\n",
    "    - e (dir)\n",
    "      - i (file, size=584)\n",
    "    - f (file, size=29116)\n",
    "    - g (file, size=2557)\n",
    "    - h.lst (file, size=62596)\n",
    "  - b.txt (file, size=14848514)\n",
    "  - c.dat (file, size=8504156)\n",
    "  - d (dir)\n",
    "    - j (file, size=4060174)\n",
    "    - d.log (file, size=8033020)\n",
    "    - d.ext (file, size=5626152)\n",
    "    - k (file, size=7214296)`\n",
    "```"
   ]
  },
  {
   "cell_type": "code",
   "execution_count": 1,
   "metadata": {},
   "outputs": [],
   "source": [
    "from __future__ import annotations\n",
    "from dataclasses import dataclass\n",
    "from typing import Dict\n",
    "from typing import Optional"
   ]
  },
  {
   "cell_type": "code",
   "execution_count": 2,
   "metadata": {},
   "outputs": [],
   "source": [
    "SUM_OF_SIZES : int = 100000"
   ]
  },
  {
   "cell_type": "code",
   "execution_count": 3,
   "metadata": {},
   "outputs": [],
   "source": [
    "@dataclass\n",
    "class Node:\n",
    "    name : str\n",
    "    parent : Optional[Node]\n",
    "    size : Optional[int]\n",
    "    contents : Optional[Dict[Node]]\n"
   ]
  },
  {
   "attachments": {},
   "cell_type": "markdown",
   "metadata": {},
   "source": [
    "## History format\n",
    "\n",
    "Every line in the history file describes either a command or a file system entry.\n",
    "\n",
    "### $ cd\n",
    "\n",
    "Manipulates the current working directory.\n",
    "\n",
    "#### `$ cd ..`\n",
    "\n",
    "cwd = cwd.parent\n",
    "\n",
    "#### `$ cd /`\n",
    "\n",
    "cwd = _root_\n",
    "\n",
    "Only happens on the first line. Could assume that's always the case for simplicity.\n",
    "\n",
    "#### `$ cd `_name_\n",
    "\n",
    "cwd = _name_\n",
    "\n",
    "### ls\n",
    "\n",
    "Lines that follow describe file system entries, up to the next line starting with `$`.\n",
    "\n",
    "### Filesystem entries\n",
    "\n",
    "Two kinds, files and directories. Each has a name.\n",
    "\n",
    "#### _number_ _name_\n",
    "\n",
    "A file entry whose size is _number_.\n",
    "\n",
    "#### `dir` _name_\n",
    "\n",
    "A directory entry."
   ]
  },
  {
   "cell_type": "code",
   "execution_count": 4,
   "metadata": {},
   "outputs": [],
   "source": [
    "def load_data(filename: str) -> Node:\n",
    "    with open(filename) as f:\n",
    "        root = None\n",
    "        cwd = None\n",
    "        for line in f.readlines():\n",
    "            line = line.split()\n",
    "            match line:\n",
    "                case ('$','cd','/'):\n",
    "                    root = Node(name='/', parent=None, size=None, contents={})\n",
    "                    cwd = root\n",
    "                case ('$','cd','..'):\n",
    "                    cwd = cwd.parent\n",
    "                case ('$','cd',name):\n",
    "                    cwd = cwd.contents[name]\n",
    "                case ('$','ls'):\n",
    "                    # Just ignore this. If we wanted to be careful then\n",
    "                    # we could flag which state the parser is in here.\n",
    "                    pass\n",
    "                case ('dir', name):\n",
    "                    # Could check for repeats here but this will overwrite.\n",
    "                    cwd.contents[name] = Node(name=name, parent=cwd, size=None, contents={})\n",
    "                case (number, name):\n",
    "                    # Could check for repeats here but this will overwrite.\n",
    "                    cwd.contents[name] = Node(name=name, parent=cwd, size=int(number), contents=None)\n",
    "                case _:\n",
    "                    raise Exception('Unrecognized line {line}')\n",
    "    return root\n"
   ]
  },
  {
   "cell_type": "code",
   "execution_count": 5,
   "metadata": {},
   "outputs": [],
   "source": [
    "def node_sum(node : Node) -> int:\n",
    "    if node.size is not None:\n",
    "        return node.size\n",
    "    size : int = 0\n",
    "    for n in node.contents.values():\n",
    "        size += node_sum(n)\n",
    "    node.size = size\n",
    "    return size"
   ]
  },
  {
   "attachments": {},
   "cell_type": "markdown",
   "metadata": {},
   "source": [
    "_Exercise node_sum()_"
   ]
  },
  {
   "cell_type": "code",
   "execution_count": 6,
   "metadata": {},
   "outputs": [
    {
     "name": "stdout",
     "output_type": "stream",
     "text": [
      "155\n"
     ]
    }
   ],
   "source": [
    "def exercise_node_sum():\n",
    "    root = Node(name='/', parent=None, size=None, contents={})\n",
    "    root.contents['a'] = Node('a', root, 100, None)\n",
    "    bdir = Node('bdir', root, None, {})\n",
    "    root.contents['bdir'] = bdir\n",
    "    # Leave b dir empty.\n",
    "    cdir = Node('cdir', root, None, {})\n",
    "    root.contents['cdir'] = cdir\n",
    "    cdir.contents['cfile1'] = Node('cfile1', cdir, 20, None)\n",
    "    cdir.contents['cfile2'] = Node('cfile2', cdir, 30, None)\n",
    "    ddir = Node('ddir', root, None, {})\n",
    "    ddir.contents['dfile1'] = Node('dfile1', cdir, 2, None)\n",
    "    ddir.contents['dfile2'] = Node('dfile2', cdir, 3, None)\n",
    "    root.contents['ddir'] = ddir\n",
    "    print(f'{node_sum(root)}')\n",
    "\n",
    "exercise_node_sum()"
   ]
  },
  {
   "cell_type": "code",
   "execution_count": 7,
   "metadata": {},
   "outputs": [],
   "source": [
    "def dfs_sum(node: Node, predicate):\n",
    "    sum = 0\n",
    "    if node.contents is not None:\n",
    "        for n in node.contents.values():\n",
    "            sum += dfs_sum(n, predicate)\n",
    "    return sum + predicate(node)"
   ]
  },
  {
   "cell_type": "code",
   "execution_count": 8,
   "metadata": {},
   "outputs": [],
   "source": [
    "def summer(filename : str):\n",
    "    root = load_data(filename)\n",
    "    # Has the side effect of filling in the size for all directories.\n",
    "    node_sum(root)\n",
    "    dir_at_most_100k = lambda x : 0 if x.contents is None else x.size if x.size < 100000 else 0\n",
    "    print(f'{dfs_sum(root,dir_at_most_100k)}')"
   ]
  },
  {
   "cell_type": "code",
   "execution_count": 9,
   "metadata": {},
   "outputs": [
    {
     "name": "stdout",
     "output_type": "stream",
     "text": [
      "46552309\n"
     ]
    }
   ],
   "source": [
    "def sum_root():\n",
    "    root = load_data('input.txt')\n",
    "    print(f'{node_sum(root)}')\n",
    "\n",
    "sum_root()"
   ]
  },
  {
   "attachments": {},
   "cell_type": "markdown",
   "metadata": {},
   "source": [
    "# Solution"
   ]
  },
  {
   "cell_type": "code",
   "execution_count": 10,
   "metadata": {},
   "outputs": [
    {
     "name": "stdout",
     "output_type": "stream",
     "text": [
      "1723892\n"
     ]
    }
   ],
   "source": [
    "summer('input.txt')\n"
   ]
  }
 ],
 "metadata": {
  "kernelspec": {
   "display_name": "Python 3",
   "language": "python",
   "name": "python3"
  },
  "language_info": {
   "codemirror_mode": {
    "name": "ipython",
    "version": 3
   },
   "file_extension": ".py",
   "mimetype": "text/x-python",
   "name": "python",
   "nbconvert_exporter": "python",
   "pygments_lexer": "ipython3",
   "version": "3.10.6"
  },
  "orig_nbformat": 4,
  "vscode": {
   "interpreter": {
    "hash": "e7370f93d1d0cde622a1f8e1c04877d8463912d04d973331ad4851f04de6915a"
   }
  }
 },
 "nbformat": 4,
 "nbformat_minor": 2
}
