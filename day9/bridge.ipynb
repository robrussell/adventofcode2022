{
 "cells": [
  {
   "attachments": {},
   "cell_type": "markdown",
   "metadata": {},
   "source": [
    "# Day 9: Rope Bridge"
   ]
  },
  {
   "cell_type": "code",
   "execution_count": 1,
   "metadata": {},
   "outputs": [],
   "source": [
    "from dataclasses import dataclass\n",
    "from typing import List\n",
    "import os"
   ]
  },
  {
   "cell_type": "code",
   "execution_count": 2,
   "metadata": {},
   "outputs": [],
   "source": [
    "@dataclass(frozen=True)\n",
    "class Point:\n",
    "  x: int\n",
    "  y: int\n",
    "\n",
    "  def __repr__(self):\n",
    "    return f'P({self.x}, {self.y})'\n",
    "\n",
    "  def offset(self, relative: str):\n",
    "    \"\"\" `relative` is a string like 'R 5' which gives a direction\n",
    "    and a magnitude. The letter can be one of:\n",
    "      Left: `L` for negative x\n",
    "      Right: `R` for positive x\n",
    "      Left: `U` for positive y\n",
    "      Left: `D` for negative y\n",
    "    \"\"\"\n",
    "    direction, magnitude = relative.split()\n",
    "    unit = (0,0)\n",
    "    match direction:\n",
    "      case 'L':\n",
    "        unit = (-1,0)\n",
    "      case 'R':\n",
    "        unit = (1,0)\n",
    "      case 'U':\n",
    "        unit = (0,1)\n",
    "      case 'D':\n",
    "        unit = (0,-1)\n",
    "    magnitude = int(magnitude)\n",
    "    return Point(self.x + unit[0] * magnitude, self.y + unit[1] * magnitude)\n",
    "\n",
    "@dataclass\n",
    "class Vector:\n",
    "  start: Point\n",
    "  end: Point\n",
    "\n",
    "  def __repr__(self):\n",
    "    return f'V({self.start}, {self.end})'\n",
    "\n",
    "@dataclass\n",
    "class Path:\n",
    "  segments: List[Vector]\n",
    "\n",
    "  #def add_segment(self, relative : str):\n",
    "  #  self.segments.append\n",
    "\n",
    "  def end_point(self) -> Point:\n",
    "    if len(self.segments):\n",
    "      return self.segments[-1].end\n",
    "    return Point(0,0)\n",
    "\n",
    "  def __repr__(self):\n",
    "    return f'{self.segments}'"
   ]
  },
  {
   "attachments": {},
   "cell_type": "markdown",
   "metadata": {},
   "source": [
    "_Exercise classes_"
   ]
  },
  {
   "cell_type": "code",
   "execution_count": 3,
   "metadata": {},
   "outputs": [
    {
     "name": "stdout",
     "output_type": "stream",
     "text": [
      "P(0, 0) + L 1 = P(-1, 0), V = V(P(0, 0), P(-1, 0))\n",
      "P(0, 0) + R 1 = P(1, 0), V = V(P(0, 0), P(1, 0))\n",
      "P(0, 0) + U 1 = P(0, 1), V = V(P(0, 0), P(0, 1))\n",
      "P(0, 0) + D 1 = P(0, -1), V = V(P(0, 0), P(0, -1))\n",
      "P(0, 0) + L 5 = P(-5, 0), V = V(P(0, 0), P(-5, 0))\n",
      "P(-5, 0) + L 1 = P(-6, 0), V = V(P(-5, 0), P(-6, 0))\n",
      "P(-5, 0) + R 1 = P(-4, 0), V = V(P(-5, 0), P(-4, 0))\n",
      "P(-5, 0) + U 1 = P(-5, 1), V = V(P(-5, 0), P(-5, 1))\n",
      "P(-5, 0) + D 1 = P(-5, -1), V = V(P(-5, 0), P(-5, -1))\n",
      "P(-5, 0) + L 5 = P(-10, 0), V = V(P(-5, 0), P(-10, 0))\n",
      "P(0, 6) + L 1 = P(-1, 6), V = V(P(0, 6), P(-1, 6))\n",
      "P(0, 6) + R 1 = P(1, 6), V = V(P(0, 6), P(1, 6))\n",
      "P(0, 6) + U 1 = P(0, 7), V = V(P(0, 6), P(0, 7))\n",
      "P(0, 6) + D 1 = P(0, 5), V = V(P(0, 6), P(0, 5))\n",
      "P(0, 6) + L 5 = P(-5, 6), V = V(P(0, 6), P(-5, 6))\n",
      "P(10, 20) + L 1 = P(9, 20), V = V(P(10, 20), P(9, 20))\n",
      "P(10, 20) + R 1 = P(11, 20), V = V(P(10, 20), P(11, 20))\n",
      "P(10, 20) + U 1 = P(10, 21), V = V(P(10, 20), P(10, 21))\n",
      "P(10, 20) + D 1 = P(10, 19), V = V(P(10, 20), P(10, 19))\n",
      "P(10, 20) + L 5 = P(5, 20), V = V(P(10, 20), P(5, 20))\n",
      "Path [V(P(0, 0), P(-1, 0)), V(P(-1, 0), P(0, 0)), V(P(0, 0), P(0, 1)), V(P(0, 1), P(0, 0)), V(P(0, 0), P(-5, 0)), V(P(-5, 0), P(-6, 0)), V(P(-6, 0), P(-5, 0)), V(P(-5, 0), P(-5, 1)), V(P(-5, 1), P(-5, 0)), V(P(-5, 0), P(-10, 0)), V(P(-10, 0), P(-11, 0)), V(P(-11, 0), P(-10, 0)), V(P(-10, 0), P(-10, 1)), V(P(-10, 1), P(-10, 0)), V(P(-10, 0), P(-15, 0)), V(P(-15, 0), P(-16, 0)), V(P(-16, 0), P(-15, 0)), V(P(-15, 0), P(-15, 1)), V(P(-15, 1), P(-15, 0)), V(P(-15, 0), P(-20, 0))]\n"
     ]
    }
   ],
   "source": [
    "def exercise_classes():\n",
    "  path  = Path([])\n",
    "  path_end = Point(0,0)\n",
    "  for p in [Point(0, 0), Point(-5, 0), Point(0, 6), Point(10, 20)]:\n",
    "    for q in ['L 1', 'R 1', 'U 1', 'D 1', 'L 5']:\n",
    "      print(f'{p} + {q} = {p.offset(q)}, V = {Vector(p, p.offset(q))}')\n",
    "      next_segment = Vector(path.end_point(), path.end_point().offset(q))\n",
    "      path.segments.append(next_segment)\n",
    "  print(f'Path {path}')\n",
    "\n",
    "exercise_classes()"
   ]
  },
  {
   "cell_type": "code",
   "execution_count": 4,
   "metadata": {},
   "outputs": [],
   "source": [
    "def load_data(filename : str) -> Path:\n",
    "  p = Path([])\n",
    "  with open(filename) as f:\n",
    "    for line in f.readlines():\n",
    "      line = line.strip()\n",
    "      if not len(line) or line[0] == '#':\n",
    "        continue\n",
    "      e = p.end_point()\n",
    "      p.segments.append(Vector(e, e.offset(line)))\n",
    "  return p"
   ]
  },
  {
   "cell_type": "code",
   "execution_count": 5,
   "metadata": {},
   "outputs": [],
   "source": [
    "def make_tail(head : Path) -> Path:\n",
    "  \"\"\" Creates the next destination for `t` to approach `h` \"\"\"\n",
    "  def follow(h : Point, t : Point) -> Point:\n",
    "    x : int = t.x\n",
    "    y : int= t.y\n",
    "    if h.x > t.x:\n",
    "      x = h.x - 1\n",
    "    if h.x < t.x:\n",
    "      x = h.x + 1\n",
    "    if h.y > t.y:\n",
    "      y = h.y - 1\n",
    "    if h.y < t.y:\n",
    "      y = h.y + 1\n",
    "    return Point(x, y)\n",
    "\n",
    "  tail = Path([Vector(Point(0, 0), Point(0, 0))])\n",
    "  for s in head.segments:\n",
    "    tail_current = tail.end_point()\n",
    "    head_current = s.end\n",
    "    tail_next = follow(head_current, tail_current)\n",
    "    tail.segments.append(Vector(tail_current, tail_next))\n",
    "  return tail"
   ]
  },
  {
   "cell_type": "code",
   "execution_count": 6,
   "metadata": {},
   "outputs": [],
   "source": [
    "def unique_positions(path : Path):\n",
    "  # Find unique positions visited by the tail\n",
    "  positions = set()\n",
    "  for e in path.segments:\n",
    "    positions.add(e.end)\n",
    "  return positions"
   ]
  },
  {
   "cell_type": "code",
   "execution_count": 7,
   "metadata": {},
   "outputs": [
    {
     "name": "stdout",
     "output_type": "stream",
     "text": [
      "testdata/easy.txt: Path [V(P(0, 0), P(0, 0)), V(P(0, 0), P(0, 9)), V(P(0, 9), P(0, 19)), V(P(0, 19), P(9, 19)), V(P(9, 19), P(-9, 19))], unique {P(9, 19), P(0, 0), P(0, 19), P(0, 9), P(-9, 19)}\n",
      "testdata/stay.txt: Path [V(P(0, 0), P(0, 0)), V(P(0, 0), P(0, 0)), V(P(0, 0), P(0, 0)), V(P(0, 0), P(0, 0)), V(P(0, 0), P(0, 0))], unique {P(0, 0)}\n",
      "testdata/short.txt: Path [V(P(0, 0), P(0, 0)), V(P(0, 0), P(13, 0)), V(P(13, 0), P(13, -15)), V(P(13, -15), P(13, -15)), V(P(13, -15), P(23, -15))], unique {P(13, -15), P(13, 0), P(23, -15), P(0, 0)}\n",
      "testdata/sample.txt: Path [V(P(0, 0), P(0, 0)), V(P(0, 0), P(13, 0)), V(P(13, 0), P(13, -15)), V(P(13, -15), P(13, -15)), V(P(13, -15), P(23, -15)), V(P(23, -15), P(23, -8)), V(P(23, -8), P(31, -8)), V(P(31, -8), P(31, -2)), V(P(31, -2), P(31, -7)), V(P(31, -7), P(31, -2))], unique {P(13, -15), P(31, -2), P(0, 0), P(13, 0), P(31, -7), P(23, -8), P(23, -15), P(31, -8)}\n"
     ]
    }
   ],
   "source": [
    "def exercise_unique_positions():\n",
    "  for f in [os.path.join('testdata', t) for t in ['easy.txt', 'stay.txt', 'short.txt', 'sample.txt']]:\n",
    "    h = load_data(f)\n",
    "    t = make_tail(h)\n",
    "    print(f'{f}: Path {t}, unique {unique_positions(t)}')  \n",
    "  \n",
    "exercise_unique_positions()"
   ]
  },
  {
   "cell_type": "code",
   "execution_count": 8,
   "metadata": {},
   "outputs": [
    {
     "name": "stdout",
     "output_type": "stream",
     "text": [
      "1481\n"
     ]
    }
   ],
   "source": [
    "def solver():\n",
    "  h = load_data('input.txt')\n",
    "  t = make_tail(h)\n",
    "  print(f'{len(unique_positions(t))}')  \n",
    "  \n",
    "solver()"
   ]
  }
 ],
 "metadata": {
  "kernelspec": {
   "display_name": "Python 3",
   "language": "python",
   "name": "python3"
  },
  "language_info": {
   "codemirror_mode": {
    "name": "ipython",
    "version": 3
   },
   "file_extension": ".py",
   "mimetype": "text/x-python",
   "name": "python",
   "nbconvert_exporter": "python",
   "pygments_lexer": "ipython3",
   "version": "3.10.6"
  },
  "orig_nbformat": 4,
  "vscode": {
   "interpreter": {
    "hash": "e7370f93d1d0cde622a1f8e1c04877d8463912d04d973331ad4851f04de6915a"
   }
  }
 },
 "nbformat": 4,
 "nbformat_minor": 2
}
