{
 "cells": [
  {
   "attachments": {},
   "cell_type": "markdown",
   "metadata": {},
   "source": [
    "# Day 8: Treetop Tree House\n",
    "\n",
    "How many trees are visible from outside the grid?\n",
    "\n",
    "* A tree is visible if all the trees between it and the edge are shorter.\n",
    "* Each number in the input represents the height of a tree."
   ]
  },
  {
   "cell_type": "code",
   "execution_count": null,
   "metadata": {},
   "outputs": [],
   "source": []
  }
 ],
 "metadata": {
  "language_info": {
   "name": "python"
  },
  "orig_nbformat": 4
 },
 "nbformat": 4,
 "nbformat_minor": 2
}
