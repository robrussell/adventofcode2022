{
 "cells": [
  {
   "attachments": {},
   "cell_type": "markdown",
   "metadata": {},
   "source": [
    "# Day 8: Treetop Tree House\n",
    "\n",
    "How many trees are visible from outside the grid?\n",
    "\n",
    "* A tree is visible if all the trees between it and the edge are shorter.\n",
    "* Each number \\[0-9\\] in the input represents the height of a tree.\n",
    "\n",
    "## Approach\n",
    "\n",
    "Trees are seen by looking in from the outside. So start by looking into the forest from each position along the perimeter. For the _F_ x _F_ forest:\n",
    "\n",
    "```\n",
    "     0    1     2    ...  F-1   F\n",
    "0   🌲   🌳   🌳        🌲   🌳\n",
    "1   🌲   🌲   🌳        🌳   🌲\n",
    "2   🌲   🌳   🎄        🌳   🌳\n",
    "...\n",
    "F-1 🌲   🌳   🌳        🌲   🌳 \n",
    "F   🌳   🌳   🌳        🌲   🌲\n",
    "```\n",
    "\n",
    "The trees in column 0, column _F_, row 0 and row _F_ are all visible. So we initiailize with that tree as the first visible when looking into the row or column. There's a further optimization that's pretty clear though. If we start with the top edge looking down the second column then find that the first _D_ trees are all visible then we don't need to consider them when we later look in along rows 0 - _D_. There's a tricky detail here - we don't need to re-evaluate a tree that's known to be **visible** but the only way we know a tree is **not visible** is that it's no taller than any tree which shares a row or column.\n",
    "\n",
    "One way to remember which trees are visible would be to make an _F_ x _F_ grid of bools called _V_ to track visibility and consult that when starting each search down a row or column. If the tree height comparison were expensive then this also gives a bool check which would be less expensive than repeating the tree height comparison.\n",
    "\n",
    "Another option is to follow a spiral around the perimeter of the forest moving inward. We're not just looking for a hull around the outside though - it's possible to look inward and see the first 2 trees, not see the next 3, but see the 6th tree if they have heights like 2, 4, 1, 1, 1, 5. The spiral search is appealing since the inner search boundary will still probably shrink over time and the edges can be skipped. It's probably easy to mess this optimization up. However with a simple look in from each edge we know we can stop if we hit a tree of height 9. That's a cheap optimization that might be worth it. I'll stick with the simpler method of looking in from each edge.\n",
    "\n",
    "Make 4 lists: _N_, _E_, _S_, _W_. Each list stores the hieght of the tallest tree visible when looking into the forest from that edge. For row 0, _N_[0] = the top row of the forest. Do the equivalent for _E_, _S_, and _W_. Then start on the north side for column 1:\n",
    "\n",
    "1. Iterate over trees in row _r_.\n",
    "2. Comparing the height to _N_\\[_c_\\]. If it's taller, update _N_ and _V_.\n",
    "3. Repeat for each column.\n",
    "\n",
    "Do the equivalent looking up from the south side, inverting the search direction. Add a guard to check if the current tree is already marked visible in _V_."
   ]
  },
  {
   "cell_type": "code",
   "execution_count": 1,
   "metadata": {},
   "outputs": [],
   "source": [
    "from dataclasses import dataclass\n",
    "from typing import List\n",
    "import os"
   ]
  },
  {
   "cell_type": "code",
   "execution_count": 2,
   "metadata": {},
   "outputs": [],
   "source": [
    "class Forest():\n",
    "\n",
    "    def __init__(self, trees: List[List[bool]]):\n",
    "        self.trees_ : List[List[int]] = trees.copy()\n",
    "        self.visibility_ : Optional(List[List[bool]]) = None\n",
    "    \n",
    "    def trees(self) -> List[List[int]]:\n",
    "        return self.trees_\n",
    "\n",
    "    def edge_len(self) -> int:\n",
    "        return len(self.trees_[0])\n",
    "\n",
    "    def visibility(self) -> List[List[bool]]:\n",
    "        if self.visibility_:\n",
    "            return self.visibility_\n",
    "        #self.visibility_ = self.edge_len() * [[True, *((self.edge_len() - 2) * [False]), True]]\n",
    "        #self.visibility_[0] = self.edge_len() * [True]\n",
    "        #self.visibility_[self.edge_len() - 1] = self.edge_len() * [True]\n",
    "        edge_len = self.edge_len()\n",
    "        v = []\n",
    "        for r in range(0, edge_len):\n",
    "            row = [True]\n",
    "            for c in range(1, edge_len - 1):\n",
    "                row.append(False)\n",
    "            row.append(True)\n",
    "            v.append(row)\n",
    "        for c in range(0, edge_len):\n",
    "            v[0][c] = True\n",
    "            v[edge_len - 1][c] = True\n",
    "        self.visibility_ = v\n",
    "        # Track the tallest tree seen looking from each direction.\n",
    "        north : List[int] = self.row(0)\n",
    "        east : List[int] = self.column(self.edge_len()-1)\n",
    "        south : List[int] = self.row(self.edge_len()-1)\n",
    "        west : List[int] = self.column(0)\n",
    "        # Skip the first and last rows because they are done.\n",
    "        for r in range(1, edge_len - 1):\n",
    "            # Skip the first and last columns because they are done.\n",
    "            for c in range(1, edge_len - 1):\n",
    "                # TODO: Seems like we could check visibility here and bail out \n",
    "                # early if it's set. Only one tree can be visible from both directions\n",
    "                tree = self.trees_[r][c]\n",
    "                if tree > north[c]:\n",
    "                    north[c] = tree\n",
    "                    self.visibility_[r][c] = True\n",
    "        # From the south looking north.\n",
    "        for r in range(edge_len - 2, 0, -1):\n",
    "            for c in range(1, edge_len - 1):\n",
    "                tree = self.trees_[r][c]\n",
    "                if tree > south[c]:\n",
    "                    south[c] = tree\n",
    "                    self.visibility_[r][c] = True\n",
    "        # From the east looking west.\n",
    "        for c in range(edge_len - 2, 0, -1):\n",
    "            for r in range(1, edge_len - 1):\n",
    "                tree = self.trees_[r][c]\n",
    "                if tree > east[r]:\n",
    "                    east[r] = tree\n",
    "                    self.visibility_[r][c] = True\n",
    "        # From the west looking east.\n",
    "        for c in range(1, edge_len - 1):\n",
    "            for r in range(1, edge_len - 1):\n",
    "                tree = self.trees_[r][c]\n",
    "                if tree > west[r]:\n",
    "                    west[r] = tree\n",
    "                    self.visibility_[r][c] = True\n",
    "        return self.visibility_\n",
    "\n",
    "    def row(self, index : int) -> List[int]:\n",
    "        # Return a copy to be consistent with `column()`\n",
    "        return self.trees_[index].copy()\n",
    "\n",
    "    def column(self, index : int) -> List[int]:\n",
    "        return self.trees_[index] \n",
    "\n",
    "    "
   ]
  },
  {
   "cell_type": "code",
   "execution_count": 3,
   "metadata": {},
   "outputs": [],
   "source": [
    "def get_testdata():\n",
    "    return [os.path.join('testdata',f) for f in ['easy1.txt', 'easy2.txt', 'easy3.txt', 'easy4.txt', 'sample1.txt']]"
   ]
  },
  {
   "cell_type": "code",
   "execution_count": 4,
   "metadata": {},
   "outputs": [],
   "source": [
    "def load_data(filename : str):\n",
    "    rows : List[List[int]] = []\n",
    "    with open(filename) as f:\n",
    "        for line in f.readlines():\n",
    "            rows.append([int(i) for i in line.strip()])\n",
    "    return Forest(rows)"
   ]
  },
  {
   "cell_type": "code",
   "execution_count": 5,
   "metadata": {},
   "outputs": [
    {
     "name": "stdout",
     "output_type": "stream",
     "text": [
      "[1, 1, 1, 1]\n",
      "[1, 0, 0, 1]\n",
      "[1, 0, 0, 1]\n",
      "[1, 1, 1, 1]\n",
      "[True, True, True, True]\n",
      "[True, False, False, True]\n",
      "[True, False, False, True]\n",
      "[True, True, True, True]\n",
      "[4, 4, 4, 4]\n",
      "[3, 3, 3, 3]\n",
      "[2, 2, 2, 2]\n",
      "[1, 1, 1, 1]\n",
      "[True, True, True, True]\n",
      "[True, True, True, True]\n",
      "[True, True, True, True]\n",
      "[True, True, True, True]\n",
      "[1, 1, 1, 1, 1]\n",
      "[1, 9, 9, 9, 1]\n",
      "[1, 9, 0, 9, 1]\n",
      "[1, 9, 9, 9, 1]\n",
      "[1, 1, 1, 1, 1]\n",
      "[True, True, True, True, True]\n",
      "[True, True, True, True, True]\n",
      "[True, True, False, True, True]\n",
      "[True, True, True, True, True]\n",
      "[True, True, True, True, True]\n",
      "[1, 4, 1, 4, 1]\n",
      "[4, 2, 4, 2, 4]\n",
      "[3, 3, 1, 3, 3]\n",
      "[4, 4, 4, 4, 4]\n",
      "[5, 5, 5, 5, 5]\n",
      "[True, True, True, True, True]\n",
      "[True, False, True, False, True]\n",
      "[True, True, False, False, True]\n",
      "[True, False, False, False, True]\n",
      "[True, True, True, True, True]\n",
      "[6, 5, 6, 6, 2, 5, 5, 5, 5]\n",
      "[3, 2, 6, 6, 4, 3, 3, 6, 6]\n",
      "[3, 3, 3, 3, 3, 5, 3, 4, 6]\n",
      "[2, 2, 2, 6, 4, 2, 3, 3, 6]\n",
      "[5, 4, 2, 3, 4, 6, 3, 5, 2]\n",
      "[4, 4, 5, 6, 2, 4, 4, 6, 3]\n",
      "[2, 2, 4, 6, 5, 5, 5, 2, 2]\n",
      "[2, 6, 6, 2, 2, 3, 4, 2, 2]\n",
      "[3, 2, 3, 3, 6, 5, 2, 2, 5]\n",
      "[True, True, True, True, True, True, True, True, True]\n",
      "[True, False, True, False, True, False, False, True, True]\n",
      "[True, False, False, False, False, True, False, True, True]\n",
      "[True, False, False, True, True, False, False, False, True]\n",
      "[True, True, False, False, False, True, False, False, True]\n",
      "[True, False, False, True, False, False, False, True, True]\n",
      "[True, False, False, True, True, False, True, False, True]\n",
      "[True, True, True, False, False, False, True, False, True]\n",
      "[True, True, True, True, True, True, True, True, True]\n"
     ]
    }
   ],
   "source": [
    "def exercise():\n",
    "    for f in get_testdata():\n",
    "        forest = load_data(f)\n",
    "        for l in forest.trees():\n",
    "            print(f'{l}')\n",
    "        for l in forest.visibility():\n",
    "            print(f'{l}')\n",
    "\n",
    "exercise()"
   ]
  },
  {
   "attachments": {},
   "cell_type": "markdown",
   "metadata": {},
   "source": [
    "# Solve part 1"
   ]
  },
  {
   "cell_type": "code",
   "execution_count": 6,
   "metadata": {},
   "outputs": [
    {
     "name": "stdout",
     "output_type": "stream",
     "text": [
      "1803\n"
     ]
    }
   ],
   "source": [
    "def solve():\n",
    "    forest = load_data('input.txt')\n",
    "    v = forest.visibility()\n",
    "    return sum([sum(r) for r in v])\n",
    "\n",
    "print(solve())"
   ]
  },
  {
   "cell_type": "code",
   "execution_count": null,
   "metadata": {},
   "outputs": [],
   "source": []
  }
 ],
 "metadata": {
  "kernelspec": {
   "display_name": "Python 3",
   "language": "python",
   "name": "python3"
  },
  "language_info": {
   "codemirror_mode": {
    "name": "ipython",
    "version": 3
   },
   "file_extension": ".py",
   "mimetype": "text/x-python",
   "name": "python",
   "nbconvert_exporter": "python",
   "pygments_lexer": "ipython3",
   "version": "3.10.6"
  },
  "orig_nbformat": 4,
  "vscode": {
   "interpreter": {
    "hash": "e7370f93d1d0cde622a1f8e1c04877d8463912d04d973331ad4851f04de6915a"
   }
  }
 },
 "nbformat": 4,
 "nbformat_minor": 2
}
