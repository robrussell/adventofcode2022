{
 "cells": [
  {
   "attachments": {},
   "cell_type": "markdown",
   "metadata": {},
   "source": [
    "# Day 6: Tuning Trouble\n",
    "\n",
    "Find the marker - the first point in the stream of characters where the most recent 4 characters have no character in common.\n",
    "\n",
    "Report the character count when this happens.\n",
    "\n",
    "Examples:\n",
    "\n",
    "* `bvwbjplbgvbhsrlpgdmjqwftvncz`: first marker after character **5**\n",
    "* `nppdvjthqldpwncqszvftbrmjlhg`: first marker after character **6**\n",
    "* `nznrnfrfntjfmvfwmzdfjlvtqnbhcprsg`: first marker after character **10**\n",
    "* `zcfzfwzzqfrljwzlrfnpqdbhtmscgvjw`: first marker after character **11**\n"
   ]
  },
  {
   "cell_type": "code",
   "execution_count": 1,
   "metadata": {},
   "outputs": [],
   "source": [
    "from typing import List"
   ]
  },
  {
   "cell_type": "code",
   "execution_count": 2,
   "metadata": {},
   "outputs": [],
   "source": [
    "def get_testdata() -> List[str]:\n",
    "    return [\n",
    "        'bvwbjplbgvbhsrlpgdmjqwftvncz',\n",
    "        'nppdvjthqldpwncqszvftbrmjlhg',\n",
    "        'nznrnfrfntjfmvfwmzdfjlvtqnbhcprsg',\n",
    "        'zcfzfwzzqfrljwzlrfnpqdbhtmscgvjw'\n",
    "    ]"
   ]
  },
  {
   "cell_type": "code",
   "execution_count": 12,
   "metadata": {},
   "outputs": [],
   "source": [
    "def find_marker(input : str) -> int:\n",
    "    last_four : List[str] = input[0:4]\n",
    "    for i, c in enumerate(input):\n",
    "        comp = sorted(last_four)\n",
    "        if (comp[0] != comp[1] \n",
    "            and comp[1] != comp[2] \n",
    "            and comp[2] != comp[3]):\n",
    "            return i\n",
    "        last_four = last_four[1:]\n",
    "        last_four += c\n",
    "    return -1"
   ]
  },
  {
   "cell_type": "code",
   "execution_count": 13,
   "metadata": {},
   "outputs": [
    {
     "name": "stdout",
     "output_type": "stream",
     "text": [
      "bvwbjplbgvbhsrlpgdmjqwftvncz: 5\n",
      "nppdvjthqldpwncqszvftbrmjlhg: 6\n",
      "nznrnfrfntjfmvfwmzdfjlvtqnbhcprsg: 10\n",
      "zcfzfwzzqfrljwzlrfnpqdbhtmscgvjw: 11\n"
     ]
    }
   ],
   "source": [
    "def exercise_find_marker():\n",
    "    for t in get_testdata():\n",
    "        print(f'{t}: {find_marker(t)}')\n",
    "\n",
    "exercise_find_marker()\n"
   ]
  },
  {
   "cell_type": "code",
   "execution_count": null,
   "metadata": {},
   "outputs": [
    {
     "data": {
      "text/plain": [
       "[4]"
      ]
     },
     "execution_count": 8,
     "metadata": {},
     "output_type": "execute_result"
    }
   ],
   "source": [
    "s = [1, 2, 3, 4, 5]\n",
    "s[3:4]"
   ]
  },
  {
   "cell_type": "code",
   "execution_count": 15,
   "metadata": {},
   "outputs": [],
   "source": [
    "def solve(filename: str = 'input.txt') -> int:\n",
    "    with open(filename) as f:\n",
    "        return find_marker(f.read().strip())"
   ]
  },
  {
   "cell_type": "code",
   "execution_count": 16,
   "metadata": {},
   "outputs": [
    {
     "data": {
      "text/plain": [
       "1198"
      ]
     },
     "execution_count": 16,
     "metadata": {},
     "output_type": "execute_result"
    }
   ],
   "source": [
    "solve()"
   ]
  },
  {
   "cell_type": "code",
   "execution_count": null,
   "metadata": {},
   "outputs": [],
   "source": []
  }
 ],
 "metadata": {
  "kernelspec": {
   "display_name": "Python 3",
   "language": "python",
   "name": "python3"
  },
  "language_info": {
   "codemirror_mode": {
    "name": "ipython",
    "version": 3
   },
   "file_extension": ".py",
   "mimetype": "text/x-python",
   "name": "python",
   "nbconvert_exporter": "python",
   "pygments_lexer": "ipython3",
   "version": "3.10.6"
  },
  "orig_nbformat": 4,
  "vscode": {
   "interpreter": {
    "hash": "e7370f93d1d0cde622a1f8e1c04877d8463912d04d973331ad4851f04de6915a"
   }
  }
 },
 "nbformat": 4,
 "nbformat_minor": 2
}
