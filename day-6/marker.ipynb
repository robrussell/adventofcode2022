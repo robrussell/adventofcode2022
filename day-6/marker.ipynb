{
 "cells": [
  {
   "attachments": {},
   "cell_type": "markdown",
   "metadata": {},
   "source": [
    "# Day 6: Tuning Trouble\n",
    "\n",
    "Find the marker - the first point in the stream of characters where the most recent 4 characters have no character in common.\n",
    "\n",
    "Report the character count when this happens.\n",
    "\n",
    "Examples:\n",
    "\n",
    "* `bvwbjplbgvbhsrlpgdmjqwftvncz`: first marker after character **5**\n",
    "* `nppdvjthqldpwncqszvftbrmjlhg`: first marker after character **6**\n",
    "* `nznrnfrfntjfmvfwmzdfjlvtqnbhcprsg`: first marker after character **10**\n",
    "* `zcfzfwzzqfrljwzlrfnpqdbhtmscgvjw`: first marker after character **11**\n"
   ]
  },
  {
   "cell_type": "code",
   "execution_count": 1,
   "metadata": {},
   "outputs": [],
   "source": [
    "from typing import List"
   ]
  },
  {
   "cell_type": "code",
   "execution_count": 2,
   "metadata": {},
   "outputs": [],
   "source": [
    "def get_testdata() -> List[str]:\n",
    "    return [\n",
    "        'bvwbjplbgvbhsrlpgdmjqwftvncz',\n",
    "        'nppdvjthqldpwncqszvftbrmjlhg',\n",
    "        'nznrnfrfntjfmvfwmzdfjlvtqnbhcprsg',\n",
    "        'zcfzfwzzqfrljwzlrfnpqdbhtmscgvjw'\n",
    "    ]"
   ]
  },
  {
   "cell_type": "code",
   "execution_count": 3,
   "metadata": {},
   "outputs": [],
   "source": [
    "def two_in_a_row(input: str):\n",
    "    last = input[0]\n",
    "    for i in input[1:]:\n",
    "        if last == i:\n",
    "            return True\n",
    "        last = i\n",
    "    return False\n"
   ]
  },
  {
   "cell_type": "code",
   "execution_count": 4,
   "metadata": {},
   "outputs": [
    {
     "data": {
      "text/plain": [
       "True"
      ]
     },
     "execution_count": 4,
     "metadata": {},
     "output_type": "execute_result"
    }
   ],
   "source": [
    "two_in_a_row('aacd')"
   ]
  },
  {
   "cell_type": "code",
   "execution_count": 5,
   "metadata": {},
   "outputs": [],
   "source": [
    "def find_marker(input : str, marker_length : int = 4) -> int:\n",
    "    last_four : List[str] = input[0:marker_length]\n",
    "    for i, c in enumerate(input[marker_length:]):\n",
    "        comp = sorted(last_four)\n",
    "        if not two_in_a_row(comp):\n",
    "            return i + marker_length\n",
    "        last_four = last_four[1:]\n",
    "        last_four += c\n",
    "    return -1"
   ]
  },
  {
   "cell_type": "code",
   "execution_count": 6,
   "metadata": {},
   "outputs": [
    {
     "name": "stdout",
     "output_type": "stream",
     "text": [
      "bvwbjplbgvbhsrlpgdmjqwftvncz: 5\n",
      "nppdvjthqldpwncqszvftbrmjlhg: 6\n",
      "nznrnfrfntjfmvfwmzdfjlvtqnbhcprsg: 10\n",
      "zcfzfwzzqfrljwzlrfnpqdbhtmscgvjw: 11\n"
     ]
    }
   ],
   "source": [
    "def exercise_find_marker():\n",
    "    for t in get_testdata():\n",
    "        print(f'{t}: {find_marker(t)}')\n",
    "\n",
    "exercise_find_marker()\n"
   ]
  },
  {
   "cell_type": "code",
   "execution_count": 7,
   "metadata": {},
   "outputs": [
    {
     "data": {
      "text/plain": [
       "[4]"
      ]
     },
     "execution_count": 7,
     "metadata": {},
     "output_type": "execute_result"
    }
   ],
   "source": [
    "s = [1, 2, 3, 4, 5]\n",
    "s[3:4]"
   ]
  },
  {
   "cell_type": "code",
   "execution_count": 8,
   "metadata": {},
   "outputs": [],
   "source": [
    "def solve(filename: str = 'input.txt', marker_length: int = 4) -> int:\n",
    "    with open(filename) as f:\n",
    "        return find_marker(f.read().strip(), marker_length)"
   ]
  },
  {
   "attachments": {},
   "cell_type": "markdown",
   "metadata": {},
   "source": [
    "# Solution for part 1"
   ]
  },
  {
   "cell_type": "code",
   "execution_count": 9,
   "metadata": {},
   "outputs": [
    {
     "data": {
      "text/plain": [
       "1198"
      ]
     },
     "execution_count": 9,
     "metadata": {},
     "output_type": "execute_result"
    }
   ],
   "source": [
    "solve()"
   ]
  },
  {
   "attachments": {},
   "cell_type": "markdown",
   "metadata": {},
   "source": [
    "# Solution for part 2\n",
    "\n",
    "Part 2 has the same requirements but needs 14 characters instead of 4.\n",
    "\n",
    "examples:\n",
    "\n",
    "* `bvwbjplbgvbhsrlpgdmjqwftvncz`: first marker after character **5**\n",
    "* `nppdvjthqldpwncqszvftbrmjlhg`: first marker after character **6**\n",
    "* `nznrnfrfntjfmvfwmzdfjlvtqnbhcprsg`: first marker after character **10**\n",
    "* `zcfzfwzzqfrljwzlrfnpqdbhtmscgvjw`: first marker after character **11**"
   ]
  },
  {
   "cell_type": "code",
   "execution_count": 10,
   "metadata": {},
   "outputs": [
    {
     "data": {
      "text/plain": [
       "3120"
      ]
     },
     "execution_count": 10,
     "metadata": {},
     "output_type": "execute_result"
    }
   ],
   "source": [
    "solve('input.txt', marker_length=14)"
   ]
  }
 ],
 "metadata": {
  "kernelspec": {
   "display_name": "Python 3",
   "language": "python",
   "name": "python3"
  },
  "language_info": {
   "codemirror_mode": {
    "name": "ipython",
    "version": 3
   },
   "file_extension": ".py",
   "mimetype": "text/x-python",
   "name": "python",
   "nbconvert_exporter": "python",
   "pygments_lexer": "ipython3",
   "version": "3.10.6 (main, Nov  2 2022, 18:53:38) [GCC 11.3.0]"
  },
  "orig_nbformat": 4,
  "vscode": {
   "interpreter": {
    "hash": "e7370f93d1d0cde622a1f8e1c04877d8463912d04d973331ad4851f04de6915a"
   }
  }
 },
 "nbformat": 4,
 "nbformat_minor": 2
}
