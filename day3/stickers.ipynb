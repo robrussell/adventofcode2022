{
 "cells": [
  {
   "cell_type": "markdown",
   "metadata": {},
   "source": [
    "# Day 3: Rucksack Reorganization\n",
    "\n",
    "https://adventofcode.com/2022/day/3\n",
    "\n",
    "Find the item type for the badge for each group of 3 elves. What is the sum of the priorities of the badge item types?\n",
    "\n",
    "## Notes\n",
    "\n",
    "* Every group of 3 lines has an item in common. That item is the badge.\n",
    "\n",
    "## Example \n",
    "\n",
    "_vJrwpWtwJgWrhcsFMMfFFhFp_\n",
    "\n",
    "First half _vJrwpWtwJgWr_ is in the first compartment, second half _hcsFMMfFFhFp_ is in the second compartment\n",
    "\n"
   ]
  },
  {
   "cell_type": "code",
   "execution_count": 1,
   "metadata": {},
   "outputs": [],
   "source": [
    "from typing import List\n",
    "from typing import Final\n",
    "from dataclasses import dataclass"
   ]
  },
  {
   "cell_type": "code",
   "execution_count": 2,
   "metadata": {},
   "outputs": [],
   "source": [
    "def split_compartments(rucksack : str) -> tuple[str, str]:\n",
    "    line_mid = int(len(rucksack)/2)\n",
    "    part1 = rucksack[0:line_mid]\n",
    "    part2 = rucksack[line_mid:]\n",
    "    return part1, part2"
   ]
  },
  {
   "cell_type": "markdown",
   "metadata": {},
   "source": [
    "_Test split_compartments()_"
   ]
  },
  {
   "cell_type": "code",
   "execution_count": 3,
   "metadata": {},
   "outputs": [
    {
     "name": "stdout",
     "output_type": "stream",
     "text": [
      "ab, a, b\n",
      "aabb, aa, bb\n",
      "aaabbb, aaa, bbb\n"
     ]
    }
   ],
   "source": [
    "for r in ['ab', 'aabb', 'aaabbb']:\n",
    "    c1, c2 = split_compartments(r)\n",
    "    print(f\"{r}, {c1}, {c2}\")"
   ]
  },
  {
   "cell_type": "code",
   "execution_count": 4,
   "metadata": {},
   "outputs": [],
   "source": [
    "def find_common(inputs : List[str]):\n",
    "    @dataclass\n",
    "    class Compartment():\n",
    "        contents: str\n",
    "        index: int\n",
    "        def current(self):\n",
    "            return self.contents[self.index]\n",
    "        def next(self):\n",
    "            self.index = self.index + 1\n",
    "        def __lt__(self, other):\n",
    "            return self.current() < other.current()\n",
    "        def __le__(self, other):\n",
    "            return self.current() <= other.current()\n",
    "        def __gt__(self, other):\n",
    "            return self.current() > other.current()\n",
    "        def __ge__(self, other):\n",
    "            return self.current() >= other.current()\n",
    "        def __eq__(self, other):\n",
    "            return self.current() == other.current()\n",
    "        def __ne__(self, other):\n",
    "            return self.current() != other.current()\n",
    "\n",
    "    compartments : List[Compartment] = []\n",
    "    for c in inputs:\n",
    "        compartments.append(Compartment(contents=sorted(c), index=0))\n",
    "    while (True):\n",
    "        for c in compartments:\n",
    "            if c.index >= len(c.contents):\n",
    "                raise Exception(f'No match in string \"{c.contents}\"')\n",
    "        top = max(compartments)\n",
    "        bottom = min(compartments)\n",
    "        if top.current() == bottom.current():\n",
    "            return top.current()\n",
    "        bottom.next()\n"
   ]
  },
  {
   "cell_type": "markdown",
   "metadata": {},
   "source": [
    "_Test find_common()_"
   ]
  },
  {
   "cell_type": "code",
   "execution_count": 5,
   "metadata": {},
   "outputs": [
    {
     "name": "stdout",
     "output_type": "stream",
     "text": [
      "x in ['ax', 'xb']\n",
      "c in ['ac', 'bc']\n",
      "d in ['ade', 'bdb']\n",
      "d in ['adef', 'bdfb']\n",
      "x in ['xnef', 'xdrb']\n",
      "x in ['nxdef', 'mxhrb']\n",
      "x in ['ax', 'xb', 'cx']\n",
      "c in ['ac', 'bc', 'cd']\n",
      "d in ['ade', 'bdb', 'zxd']\n",
      "f in ['adef', 'bdfb', 'nnfm']\n",
      "x in ['xnef', 'xd', 'x']\n",
      "x in ['anxdef', 'mxhrb', 'ztxtttz', 'oox']\n"
     ]
    }
   ],
   "source": [
    "for c in [\n",
    "    ['ax', 'xb'], ['ac', 'bc'], ['ade', 'bdb'], ['adef', 'bdfb'], ['xnef', 'xdrb'], ['nxdef', 'mxhrb'],\n",
    "    ['ax', 'xb', 'cx'], ['ac', 'bc', 'cd'], ['ade', 'bdb', 'zxd'], ['adef', 'bdfb', 'nnfm'], ['xnef', 'xd', 'x'], ['anxdef', 'mxhrb', 'ztxtttz', 'oox']\n",
    "    ]:\n",
    "    letter = find_common(c)\n",
    "    print(f\"{letter} in {c}\")\n"
   ]
  },
  {
   "cell_type": "code",
   "execution_count": 10,
   "metadata": {},
   "outputs": [],
   "source": [
    "def find_badge(lines : List[str]) -> str:\n",
    "    return find_common(lines)"
   ]
  },
  {
   "cell_type": "code",
   "execution_count": 11,
   "metadata": {},
   "outputs": [],
   "source": [
    "def load_data(filename : str) -> List[str]:\n",
    "    badges = []\n",
    "    lines = []\n",
    "    with open(filename) as f:\n",
    "        for line in f.readlines():\n",
    "            line = line.strip()\n",
    "            if len(line) == 0 or line[0] == '#':\n",
    "                # Allow comments and blank lines\n",
    "                continue\n",
    "            if len(lines) < 3:\n",
    "                lines.append(line)\n",
    "            if len(lines) == 3:\n",
    "                badges.append(find_badge(lines))\n",
    "                lines = []\n",
    "    return badges"
   ]
  },
  {
   "cell_type": "markdown",
   "metadata": {},
   "source": [
    "_Test load_data()_"
   ]
  },
  {
   "cell_type": "code",
   "execution_count": 14,
   "metadata": {},
   "outputs": [],
   "source": [
    "def test_filenames():\n",
    "    return [os.path.join('testdata', f) for f in ['badge-ex.txt', 'badge-snippet1.txt']]"
   ]
  },
  {
   "cell_type": "code",
   "execution_count": 15,
   "metadata": {},
   "outputs": [
    {
     "name": "stdout",
     "output_type": "stream",
     "text": [
      "testdata/badge-ex.txt: ['a', 'z', 'a', 'E']\n",
      "testdata/badge-snippet1.txt: ['h', 'g', 'c', 'J']\n"
     ]
    }
   ],
   "source": [
    "for f in test_filenames():\n",
    "    print(f'{f}: {load_data(f)}')"
   ]
  },
  {
   "cell_type": "code",
   "execution_count": null,
   "metadata": {},
   "outputs": [],
   "source": [
    "kMinLower : Final[int] = ord('a')\n",
    "kMaxLower : Final[int] = ord('z')\n",
    "kMinUpper : Final[int] = ord('A')\n",
    "kMaxUpper : Final[int] = ord('Z')\n",
    "\n",
    "def letter_to_priority(letter : str) -> int:\n",
    "    if len(letter) != 1:\n",
    "        raise Exception(f'Length of \"{letter}\" should be 1.')\n",
    "    letter_ordinal : Final[int] = ord(letter)\n",
    "    if letter_ordinal >= kMinLower and letter_ordinal <= kMaxLower:\n",
    "        return 1 + letter_ordinal - kMinLower\n",
    "    if letter_ordinal >= kMinUpper and letter_ordinal <= kMaxUpper:\n",
    "        return 26 + 1 + letter_ordinal - kMinUpper\n"
   ]
  },
  {
   "cell_type": "markdown",
   "metadata": {},
   "source": [
    "_Test letter_to_priority()_"
   ]
  },
  {
   "cell_type": "code",
   "execution_count": null,
   "metadata": {},
   "outputs": [
    {
     "name": "stdout",
     "output_type": "stream",
     "text": [
      "a:1 should be 1\n",
      "M:39 should be 39\n",
      "m:13 should be 13\n",
      "z:26 should be 26\n"
     ]
    }
   ],
   "source": [
    "for l, p in [\n",
    "    ('a', 1),\n",
    "    ('M', 26 + 13),\n",
    "    ('m', 13),\n",
    "    ('z', 26),\n",
    "    ]:\n",
    "    print(f'{l}:{letter_to_priority(l)} should be {p}')"
   ]
  },
  {
   "cell_type": "code",
   "execution_count": null,
   "metadata": {},
   "outputs": [],
   "source": [
    "def solve(filename = 'input.txt'):\n",
    "    items = load_data(filename)\n",
    "    return sum([letter_to_priority(x) for x in items])"
   ]
  },
  {
   "cell_type": "markdown",
   "metadata": {},
   "source": [
    "_Test solver_"
   ]
  },
  {
   "cell_type": "code",
   "execution_count": null,
   "metadata": {},
   "outputs": [
    {
     "name": "stdout",
     "output_type": "stream",
     "text": [
      "testdata/snippet1.txt: 353\n"
     ]
    }
   ],
   "source": [
    "for f in test_filenames():\n",
    "    print(f'{f}: {solve(f)}')"
   ]
  },
  {
   "cell_type": "markdown",
   "metadata": {},
   "source": [
    "# Solution"
   ]
  },
  {
   "cell_type": "code",
   "execution_count": null,
   "metadata": {},
   "outputs": [
    {
     "name": "stdout",
     "output_type": "stream",
     "text": [
      "8394\n"
     ]
    }
   ],
   "source": [
    "print(solve())"
   ]
  }
 ],
 "metadata": {
  "kernelspec": {
   "display_name": "Python 3.10.6 64-bit",
   "language": "python",
   "name": "python3"
  },
  "language_info": {
   "codemirror_mode": {
    "name": "ipython",
    "version": 3
   },
   "file_extension": ".py",
   "mimetype": "text/x-python",
   "name": "python",
   "nbconvert_exporter": "python",
   "pygments_lexer": "ipython3",
   "version": "3.10.6"
  },
  "orig_nbformat": 4,
  "vscode": {
   "interpreter": {
    "hash": "916dbcbb3f70747c44a77c7bcd40155683ae19c65e1c03b4aa3499c5328201f1"
   }
  }
 },
 "nbformat": 4,
 "nbformat_minor": 2
}
