{
 "cells": [
  {
   "cell_type": "markdown",
   "metadata": {},
   "source": [
    "# Day 3: Rucksack Reorganization\n",
    "\n",
    "https://adventofcode.com/2022/day/3\n",
    "\n",
    "Find the item type that appears in both compartments of each rucksack. What is the sum of the priorities of those item types?\n",
    "\n",
    "## Notes\n",
    "\n",
    "* All items of a given type are meant to go into exactly one of the two compartments\n",
    "* Every item type is identified by a single lowercase or uppercase letter (that is, a and A refer to different types of items)\n",
    "* Input has one line per rucksack, split in the middle for the two compartments\n",
    "* Lowercase item types a through z have priorities 1 through 26.\n",
    "* Uppercase item types A through Z have priorities 27 through 52.\n",
    "\n",
    "## Example \n",
    "\n",
    "_vJrwpWtwJgWrhcsFMMfFFhFp_\n",
    "\n",
    "First half _vJrwpWtwJgWr_ is in the first compartment, second half _hcsFMMfFFhFp_ is in the second compartment\n",
    "\n"
   ]
  },
  {
   "cell_type": "code",
   "execution_count": 1,
   "metadata": {},
   "outputs": [],
   "source": [
    "from typing import List\n",
    "from typing import Final"
   ]
  },
  {
   "cell_type": "code",
   "execution_count": 2,
   "metadata": {},
   "outputs": [],
   "source": [
    "def split_compartments(rucksack : str) -> tuple[str, str]:\n",
    "    line_mid = int(len(rucksack)/2)\n",
    "    part1 = rucksack[0:line_mid]\n",
    "    part2 = rucksack[line_mid:]\n",
    "    return part1, part2"
   ]
  },
  {
   "cell_type": "markdown",
   "metadata": {},
   "source": [
    "_Test split_compartments()_"
   ]
  },
  {
   "cell_type": "code",
   "execution_count": 3,
   "metadata": {},
   "outputs": [
    {
     "name": "stdout",
     "output_type": "stream",
     "text": [
      "ab, a, b\n",
      "aabb, aa, bb\n",
      "aaabbb, aaa, bbb\n"
     ]
    }
   ],
   "source": [
    "for r in ['ab', 'aabb', 'aaabbb']:\n",
    "    c1, c2 = split_compartments(r)\n",
    "    print(f\"{r}, {c1}, {c2}\")"
   ]
  },
  {
   "cell_type": "code",
   "execution_count": 4,
   "metadata": {},
   "outputs": [],
   "source": [
    "def find_common(compartment1 : str, compartment2 : str):\n",
    "    s1 = sorted(compartment1)\n",
    "    s2 = sorted(compartment2)\n",
    "    i1 = 0\n",
    "    i2 = 0\n",
    "    while (True):\n",
    "        if i1 >= len(s1):\n",
    "            raise Exception(f'No match in first string \"{s1}\"')\n",
    "        if i2 >= len(s2):\n",
    "            raise Exception(f'No match in second string \"{s2}\"')\n",
    "        if s1[i1] == s2[i2]:\n",
    "            return s2[i2]\n",
    "        if s1[i1] > s2[i2]:\n",
    "            i2 = i2 + 1\n",
    "        else:\n",
    "            i1 = i1 + 1\n"
   ]
  },
  {
   "cell_type": "markdown",
   "metadata": {},
   "source": [
    "_Test find_common()_"
   ]
  },
  {
   "cell_type": "code",
   "execution_count": 5,
   "metadata": {},
   "outputs": [
    {
     "name": "stdout",
     "output_type": "stream",
     "text": [
      "x, ax, xb\n",
      "c, ac, bc\n",
      "d, ade, bdb\n",
      "d, adef, bdfb\n",
      "x, xnef, xdrb\n",
      "x, nxdef, mxhrb\n"
     ]
    }
   ],
   "source": [
    "for c1, c2 in [('ax', 'xb'), ('ac', 'bc'), ('ade', 'bdb'), ('adef', 'bdfb'), ('xnef', 'xdrb'), ('nxdef', 'mxhrb')]:\n",
    "    letter = find_common(c1, c2)\n",
    "    print(f\"{letter}, {c1}, {c2}\")\n"
   ]
  },
  {
   "cell_type": "code",
   "execution_count": 6,
   "metadata": {},
   "outputs": [],
   "source": [
    "def load_data(filename : str) -> List[str]:\n",
    "    common_items = []\n",
    "    with open(filename) as f:\n",
    "        for line in f.readlines():\n",
    "            line = line.strip()\n",
    "            if len(line) == 0 or line[0] == '#':\n",
    "                # Allow comments and blank lines\n",
    "                continue\n",
    "            compartment1, compartment2 = split_compartments(line)\n",
    "            common_item = find_common(compartment1, compartment2)\n",
    "            common_items.append(common_item)\n",
    "    return common_items"
   ]
  },
  {
   "cell_type": "markdown",
   "metadata": {},
   "source": [
    "_Test load_data()_"
   ]
  },
  {
   "cell_type": "code",
   "execution_count": 7,
   "metadata": {},
   "outputs": [],
   "source": [
    "def test_filenames():\n",
    "    return [os.path.join('testdata', f) for f in ['snippet1.txt']]"
   ]
  },
  {
   "cell_type": "code",
   "execution_count": 8,
   "metadata": {},
   "outputs": [
    {
     "name": "stdout",
     "output_type": "stream",
     "text": [
      "testdata/snippet1.txt: ['m', 'Q', 'R', 'M', 'P', 'N', 'd', 'Q', 'R', 'f', 'c', 'F']\n"
     ]
    }
   ],
   "source": [
    "for f in test_filenames():\n",
    "    print(f'{f}: {load_data(f)}')"
   ]
  },
  {
   "cell_type": "code",
   "execution_count": 9,
   "metadata": {},
   "outputs": [],
   "source": [
    "kMinLower : Final[int] = ord('a')\n",
    "kMaxLower : Final[int] = ord('z')\n",
    "kMinUpper : Final[int] = ord('A')\n",
    "kMaxUpper : Final[int] = ord('Z')\n",
    "\n",
    "def letter_to_priority(letter : str) -> int:\n",
    "    if len(letter) != 1:\n",
    "        raise Exception(f'Length of \"{letter}\" should be 1.')\n",
    "    letter_ordinal : Final[int] = ord(letter)\n",
    "    if letter_ordinal >= kMinLower and letter_ordinal <= kMaxLower:\n",
    "        return 1 + letter_ordinal - kMinLower\n",
    "    if letter_ordinal >= kMinUpper and letter_ordinal <= kMaxUpper:\n",
    "        return 26 + 1 + letter_ordinal - kMinUpper\n"
   ]
  },
  {
   "cell_type": "markdown",
   "metadata": {},
   "source": [
    "_Test letter_to_priority()_"
   ]
  },
  {
   "cell_type": "code",
   "execution_count": 10,
   "metadata": {},
   "outputs": [
    {
     "name": "stdout",
     "output_type": "stream",
     "text": [
      "a:1 should be 1\n",
      "M:39 should be 39\n",
      "m:13 should be 13\n",
      "z:26 should be 26\n"
     ]
    }
   ],
   "source": [
    "for l, p in [\n",
    "    ('a', 1),\n",
    "    ('M', 26 + 13),\n",
    "    ('m', 13),\n",
    "    ('z', 26),\n",
    "    ]:\n",
    "    print(f'{l}:{letter_to_priority(l)} should be {p}')"
   ]
  },
  {
   "cell_type": "code",
   "execution_count": 11,
   "metadata": {},
   "outputs": [],
   "source": [
    "def solve(filename = 'input.txt'):\n",
    "    items = load_data(filename)\n",
    "    return sum([letter_to_priority(x) for x in items])"
   ]
  },
  {
   "cell_type": "markdown",
   "metadata": {},
   "source": [
    "_Test solver_"
   ]
  },
  {
   "cell_type": "code",
   "execution_count": 12,
   "metadata": {},
   "outputs": [
    {
     "name": "stdout",
     "output_type": "stream",
     "text": [
      "testdata/snippet1.txt: 353\n"
     ]
    }
   ],
   "source": [
    "for f in test_filenames():\n",
    "    print(f'{f}: {solve(f)}')"
   ]
  },
  {
   "cell_type": "markdown",
   "metadata": {},
   "source": [
    "# Solution"
   ]
  },
  {
   "cell_type": "code",
   "execution_count": 13,
   "metadata": {},
   "outputs": [
    {
     "name": "stdout",
     "output_type": "stream",
     "text": [
      "8394\n"
     ]
    }
   ],
   "source": [
    "print(solve())"
   ]
  }
 ],
 "metadata": {
  "kernelspec": {
   "display_name": "Python 3.10.6 64-bit",
   "language": "python",
   "name": "python3"
  },
  "language_info": {
   "codemirror_mode": {
    "name": "ipython",
    "version": 3
   },
   "file_extension": ".py",
   "mimetype": "text/x-python",
   "name": "python",
   "nbconvert_exporter": "python",
   "pygments_lexer": "ipython3",
   "version": "3.10.6"
  },
  "orig_nbformat": 4,
  "vscode": {
   "interpreter": {
    "hash": "916dbcbb3f70747c44a77c7bcd40155683ae19c65e1c03b4aa3499c5328201f1"
   }
  }
 },
 "nbformat": 4,
 "nbformat_minor": 2
}
